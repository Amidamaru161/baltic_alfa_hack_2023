{
 "cells": [
  {
   "cell_type": "code",
   "execution_count": 3,
   "id": "aa7b5b8d-4b6a-444b-8943-325bace8f7ef",
   "metadata": {
    "ExecuteTime": {
     "end_time": "2023-10-07T06:35:22.163297200Z",
     "start_time": "2023-10-07T06:35:21.563877300Z"
    }
   },
   "outputs": [],
   "source": [
    "import pandas as pd"
   ]
  },
  {
   "cell_type": "code",
   "execution_count": 6,
   "id": "3ccdeb4e-e4c7-4a2a-b4b1-e9f18674937b",
   "metadata": {
    "ExecuteTime": {
     "end_time": "2023-10-07T06:35:23.521378800Z",
     "start_time": "2023-10-07T06:35:22.178955300Z"
    }
   },
   "outputs": [],
   "source": [
    "from autogluon.tabular import TabularDataset, TabularPredictor"
   ]
  },
  {
   "cell_type": "code",
   "execution_count": 4,
   "id": "07389a94-cd14-402b-b314-b37486ca40c8",
   "metadata": {
    "ExecuteTime": {
     "end_time": "2023-10-07T06:35:24.092423400Z",
     "start_time": "2023-10-07T06:35:23.526794600Z"
    }
   },
   "outputs": [],
   "source": [
    "train_data = TabularDataset('train.parquet').drop(columns=['target_1', 'target_2'])\n",
    "test_data = TabularDataset('test.parquet')"
   ]
  },
  {
   "cell_type": "code",
   "execution_count": null,
   "id": "7949d627-9f5f-40ff-aee5-ca7905dd474f",
   "metadata": {
    "ExecuteTime": {
     "end_time": "2023-10-07T08:02:50.522125600Z",
     "start_time": "2023-10-07T06:35:24.092423400Z"
    }
   },
   "outputs": [],
   "source": [
    "predictor = TabularPredictor(label='total_target', eval_metric='roc_auc').fit(train_data=train_data)\n",
    "predictions = predictor.predict(test_data)"
   ]
  },
  {
   "cell_type": "code",
   "execution_count": 11,
   "id": "0eb743e3",
   "metadata": {
    "ExecuteTime": {
     "end_time": "2023-10-07T08:24:18.969569300Z",
     "start_time": "2023-10-07T08:24:08.777353300Z"
    },
    "collapsed": false,
    "jupyter": {
     "outputs_hidden": false
    }
   },
   "outputs": [],
   "source": [
    "pred = predictor.predict_proba(train_data, as_multiclass=False)"
   ]
  },
  {
   "cell_type": "code",
   "execution_count": 12,
   "id": "1e20fc6e",
   "metadata": {
    "ExecuteTime": {
     "end_time": "2023-10-07T08:24:19.082732200Z",
     "start_time": "2023-10-07T08:24:18.969569300Z"
    },
    "collapsed": false,
    "jupyter": {
     "outputs_hidden": false
    }
   },
   "outputs": [
    {
     "data": {
      "text/plain": [
       "0.9650393293471874"
      ]
     },
     "execution_count": 12,
     "metadata": {},
     "output_type": "execute_result"
    }
   ],
   "source": [
    "from sklearn.metrics import roc_auc_score\n",
    "\n",
    "roc_auc_score(train_data['total_target'], pred)"
   ]
  },
  {
   "cell_type": "code",
   "execution_count": null,
   "id": "c4ff8897",
   "metadata": {
    "collapsed": false,
    "jupyter": {
     "outputs_hidden": false
    }
   },
   "outputs": [],
   "source": [
    "test_data.columns"
   ]
  },
  {
   "cell_type": "code",
   "execution_count": null,
   "id": "e1092a91",
   "metadata": {
    "collapsed": false,
    "jupyter": {
     "outputs_hidden": false
    }
   },
   "outputs": [],
   "source": [
    "test_data['score'] = predictor.predict_proba(test_data, as_multiclass=False)"
   ]
  },
  {
   "cell_type": "code",
   "execution_count": 15,
   "id": "379a5189",
   "metadata": {
    "ExecuteTime": {
     "end_time": "2023-10-07T08:25:01.188558700Z",
     "start_time": "2023-10-07T08:25:01.166436100Z"
    },
    "collapsed": false,
    "jupyter": {
     "outputs_hidden": false
    }
   },
   "outputs": [],
   "source": [
    "answer = test_data[['id', 'score']]"
   ]
  },
  {
   "cell_type": "code",
   "execution_count": 16,
   "id": "90b2d7c0",
   "metadata": {
    "ExecuteTime": {
     "end_time": "2023-10-07T08:25:02.929463200Z",
     "start_time": "2023-10-07T08:25:02.914041500Z"
    },
    "collapsed": false,
    "jupyter": {
     "outputs_hidden": false
    }
   },
   "outputs": [
    {
     "data": {
      "text/html": [
       "<div>\n",
       "<style scoped>\n",
       "    .dataframe tbody tr th:only-of-type {\n",
       "        vertical-align: middle;\n",
       "    }\n",
       "\n",
       "    .dataframe tbody tr th {\n",
       "        vertical-align: top;\n",
       "    }\n",
       "\n",
       "    .dataframe thead th {\n",
       "        text-align: right;\n",
       "    }\n",
       "</style>\n",
       "<table border=\"1\" class=\"dataframe\">\n",
       "  <thead>\n",
       "    <tr style=\"text-align: right;\">\n",
       "      <th></th>\n",
       "      <th>id</th>\n",
       "      <th>score</th>\n",
       "    </tr>\n",
       "  </thead>\n",
       "  <tbody>\n",
       "    <tr>\n",
       "      <th>0</th>\n",
       "      <td>300000</td>\n",
       "      <td>0.293978</td>\n",
       "    </tr>\n",
       "    <tr>\n",
       "      <th>1</th>\n",
       "      <td>300001</td>\n",
       "      <td>0.451471</td>\n",
       "    </tr>\n",
       "    <tr>\n",
       "      <th>2</th>\n",
       "      <td>300002</td>\n",
       "      <td>0.016148</td>\n",
       "    </tr>\n",
       "    <tr>\n",
       "      <th>3</th>\n",
       "      <td>300003</td>\n",
       "      <td>0.006967</td>\n",
       "    </tr>\n",
       "    <tr>\n",
       "      <th>4</th>\n",
       "      <td>300004</td>\n",
       "      <td>0.005762</td>\n",
       "    </tr>\n",
       "  </tbody>\n",
       "</table>\n",
       "</div>"
      ],
      "text/plain": [
       "       id     score\n",
       "0  300000  0.293978\n",
       "1  300001  0.451471\n",
       "2  300002  0.016148\n",
       "3  300003  0.006967\n",
       "4  300004  0.005762"
      ]
     },
     "execution_count": 16,
     "metadata": {},
     "output_type": "execute_result"
    }
   ],
   "source": [
    "answer.head()"
   ]
  },
  {
   "cell_type": "code",
   "execution_count": 18,
   "id": "b5fad3fa",
   "metadata": {
    "ExecuteTime": {
     "end_time": "2023-10-07T08:25:23.373591900Z",
     "start_time": "2023-10-07T08:25:23.089409700Z"
    },
    "collapsed": false,
    "jupyter": {
     "outputs_hidden": false
    }
   },
   "outputs": [],
   "source": [
    "answer.to_csv('test_gluon_v_096503.csv')"
   ]
  },
  {
   "cell_type": "code",
   "execution_count": 25,
   "id": "2dc69a93",
   "metadata": {
    "ExecuteTime": {
     "end_time": "2023-10-07T08:32:33.152825600Z",
     "start_time": "2023-10-07T08:30:52.424614400Z"
    },
    "collapsed": false,
    "jupyter": {
     "outputs_hidden": false
    }
   },
   "outputs": [
    {
     "name": "stderr",
     "output_type": "stream",
     "text": [
      "Computing feature importance via permutation shuffling for 100 features using 5000 rows with 5 shuffle sets...\n",
      "\t199.32s\t= Expected runtime (39.86s per shuffle set)\n",
      "\t100.51s\t= Actual runtime (Completed 5 of 5 shuffle sets)\n"
     ]
    },
    {
     "data": {
      "text/html": [
       "<div>\n",
       "<style scoped>\n",
       "    .dataframe tbody tr th:only-of-type {\n",
       "        vertical-align: middle;\n",
       "    }\n",
       "\n",
       "    .dataframe tbody tr th {\n",
       "        vertical-align: top;\n",
       "    }\n",
       "\n",
       "    .dataframe thead th {\n",
       "        text-align: right;\n",
       "    }\n",
       "</style>\n",
       "<table border=\"1\" class=\"dataframe\">\n",
       "  <thead>\n",
       "    <tr style=\"text-align: right;\">\n",
       "      <th></th>\n",
       "      <th>importance</th>\n",
       "      <th>stddev</th>\n",
       "      <th>p_value</th>\n",
       "      <th>n</th>\n",
       "      <th>p99_high</th>\n",
       "      <th>p99_low</th>\n",
       "    </tr>\n",
       "  </thead>\n",
       "  <tbody>\n",
       "    <tr>\n",
       "      <th>balance_amt_max</th>\n",
       "      <td>0.055256</td>\n",
       "      <td>0.003888</td>\n",
       "      <td>2.920750e-06</td>\n",
       "      <td>5</td>\n",
       "      <td>0.063261</td>\n",
       "      <td>0.047252</td>\n",
       "    </tr>\n",
       "    <tr>\n",
       "      <th>sum_deb_e_oper_1m</th>\n",
       "      <td>0.030344</td>\n",
       "      <td>0.000759</td>\n",
       "      <td>4.698502e-08</td>\n",
       "      <td>5</td>\n",
       "      <td>0.031907</td>\n",
       "      <td>0.028780</td>\n",
       "    </tr>\n",
       "    <tr>\n",
       "      <th>branch_code</th>\n",
       "      <td>0.018581</td>\n",
       "      <td>0.002068</td>\n",
       "      <td>1.809806e-05</td>\n",
       "      <td>5</td>\n",
       "      <td>0.022838</td>\n",
       "      <td>0.014324</td>\n",
       "    </tr>\n",
       "    <tr>\n",
       "      <th>okved</th>\n",
       "      <td>0.009646</td>\n",
       "      <td>0.001624</td>\n",
       "      <td>9.282264e-05</td>\n",
       "      <td>5</td>\n",
       "      <td>0.012990</td>\n",
       "      <td>0.006303</td>\n",
       "    </tr>\n",
       "    <tr>\n",
       "      <th>cnt_days_cred_e_oper_3m</th>\n",
       "      <td>0.008899</td>\n",
       "      <td>0.001871</td>\n",
       "      <td>2.213410e-04</td>\n",
       "      <td>5</td>\n",
       "      <td>0.012751</td>\n",
       "      <td>0.005046</td>\n",
       "    </tr>\n",
       "    <tr>\n",
       "      <th>...</th>\n",
       "      <td>...</td>\n",
       "      <td>...</td>\n",
       "      <td>...</td>\n",
       "      <td>...</td>\n",
       "      <td>...</td>\n",
       "      <td>...</td>\n",
       "    </tr>\n",
       "    <tr>\n",
       "      <th>cnt_days_deb_g_oper_1m</th>\n",
       "      <td>0.000016</td>\n",
       "      <td>0.000195</td>\n",
       "      <td>4.314064e-01</td>\n",
       "      <td>5</td>\n",
       "      <td>0.000417</td>\n",
       "      <td>-0.000385</td>\n",
       "    </tr>\n",
       "    <tr>\n",
       "      <th>cnt_b_oper_3m</th>\n",
       "      <td>0.000014</td>\n",
       "      <td>0.000043</td>\n",
       "      <td>2.501509e-01</td>\n",
       "      <td>5</td>\n",
       "      <td>0.000104</td>\n",
       "      <td>-0.000075</td>\n",
       "    </tr>\n",
       "    <tr>\n",
       "      <th>cnt_cred_d_oper_1m</th>\n",
       "      <td>0.000011</td>\n",
       "      <td>0.000148</td>\n",
       "      <td>4.403142e-01</td>\n",
       "      <td>5</td>\n",
       "      <td>0.000315</td>\n",
       "      <td>-0.000294</td>\n",
       "    </tr>\n",
       "    <tr>\n",
       "      <th>sum_b_oper_1m</th>\n",
       "      <td>0.000002</td>\n",
       "      <td>0.000090</td>\n",
       "      <td>4.775827e-01</td>\n",
       "      <td>5</td>\n",
       "      <td>0.000187</td>\n",
       "      <td>-0.000182</td>\n",
       "    </tr>\n",
       "    <tr>\n",
       "      <th>cnt_days_cred_f_oper_1m</th>\n",
       "      <td>-0.000004</td>\n",
       "      <td>0.000011</td>\n",
       "      <td>7.561532e-01</td>\n",
       "      <td>5</td>\n",
       "      <td>0.000018</td>\n",
       "      <td>-0.000025</td>\n",
       "    </tr>\n",
       "  </tbody>\n",
       "</table>\n",
       "<p>100 rows × 6 columns</p>\n",
       "</div>"
      ],
      "text/plain": [
       "                         importance    stddev       p_value  n  p99_high  \\\n",
       "balance_amt_max            0.055256  0.003888  2.920750e-06  5  0.063261   \n",
       "sum_deb_e_oper_1m          0.030344  0.000759  4.698502e-08  5  0.031907   \n",
       "branch_code                0.018581  0.002068  1.809806e-05  5  0.022838   \n",
       "okved                      0.009646  0.001624  9.282264e-05  5  0.012990   \n",
       "cnt_days_cred_e_oper_3m    0.008899  0.001871  2.213410e-04  5  0.012751   \n",
       "...                             ...       ...           ... ..       ...   \n",
       "cnt_days_deb_g_oper_1m     0.000016  0.000195  4.314064e-01  5  0.000417   \n",
       "cnt_b_oper_3m              0.000014  0.000043  2.501509e-01  5  0.000104   \n",
       "cnt_cred_d_oper_1m         0.000011  0.000148  4.403142e-01  5  0.000315   \n",
       "sum_b_oper_1m              0.000002  0.000090  4.775827e-01  5  0.000187   \n",
       "cnt_days_cred_f_oper_1m   -0.000004  0.000011  7.561532e-01  5  0.000018   \n",
       "\n",
       "                          p99_low  \n",
       "balance_amt_max          0.047252  \n",
       "sum_deb_e_oper_1m        0.028780  \n",
       "branch_code              0.014324  \n",
       "okved                    0.006303  \n",
       "cnt_days_cred_e_oper_3m  0.005046  \n",
       "...                           ...  \n",
       "cnt_days_deb_g_oper_1m  -0.000385  \n",
       "cnt_b_oper_3m           -0.000075  \n",
       "cnt_cred_d_oper_1m      -0.000294  \n",
       "sum_b_oper_1m           -0.000182  \n",
       "cnt_days_cred_f_oper_1m -0.000025  \n",
       "\n",
       "[100 rows x 6 columns]"
      ]
     },
     "execution_count": 25,
     "metadata": {},
     "output_type": "execute_result"
    }
   ],
   "source": [
    "predictor.feature_importance(train_data)"
   ]
  }
 ],
 "metadata": {
  "kernelspec": {
   "display_name": "Python 3 (ipykernel)",
   "language": "python",
   "name": "python3"
  },
  "language_info": {
   "codemirror_mode": {
    "name": "ipython",
    "version": 3
   },
   "file_extension": ".py",
   "mimetype": "text/x-python",
   "name": "python",
   "nbconvert_exporter": "python",
   "pygments_lexer": "ipython3",
   "version": "3.10.0"
  }
 },
 "nbformat": 4,
 "nbformat_minor": 5
}
