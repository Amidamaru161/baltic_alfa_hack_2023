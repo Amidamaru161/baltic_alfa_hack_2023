{
 "cells": [
  {
   "cell_type": "markdown",
   "id": "bba66d00-cc4e-4075-9687-1e6da40b4d37",
   "metadata": {
    "id": "bba66d00-cc4e-4075-9687-1e6da40b4d37"
   },
   "source": [
    "# Baseline"
   ]
  },
  {
   "cell_type": "code",
   "execution_count": 70,
   "id": "0a609494-f725-4749-9a47-e15592616b94",
   "metadata": {
    "id": "0a609494-f725-4749-9a47-e15592616b94",
    "tags": []
   },
   "outputs": [],
   "source": [
    "import pandas as pd\n",
    "\n",
    "from lightgbm import LGBMClassifier\n",
    "from sklearn.metrics import roc_auc_score\n",
    "from sklearn.model_selection import train_test_split\n",
    "from sklearn.metrics import classification_report\n",
    "from sklearn.preprocessing import LabelEncoder\n",
    "from tqdm import tqdm\n",
    "import numpy as np"
   ]
  },
  {
   "cell_type": "markdown",
   "id": "495edb84-1e54-4858-a999-bec5a0f2fb96",
   "metadata": {
    "id": "495edb84-1e54-4858-a999-bec5a0f2fb96"
   },
   "source": [
    "## Загрузка данных"
   ]
  },
  {
   "cell_type": "code",
   "execution_count": 2,
   "id": "73b1d934-7ad5-4881-b589-d45392510161",
   "metadata": {
    "id": "73b1d934-7ad5-4881-b589-d45392510161",
    "tags": []
   },
   "outputs": [],
   "source": [
    "train_df = pd.read_parquet('train.parquet')\n",
    "test_df = pd.read_parquet('test.parquet')"
   ]
  },
  {
   "cell_type": "code",
   "execution_count": 3,
   "id": "273ab3f4-5b7c-4f2f-8ee0-4ef3835eae67",
   "metadata": {
    "colab": {
     "base_uri": "https://localhost:8080/",
     "height": 255
    },
    "id": "273ab3f4-5b7c-4f2f-8ee0-4ef3835eae67",
    "outputId": "4c06304a-f22d-4b6c-de6a-25959d7a8ad4",
    "tags": []
   },
   "outputs": [
    {
     "data": {
      "text/html": [
       "<div>\n",
       "<style scoped>\n",
       "    .dataframe tbody tr th:only-of-type {\n",
       "        vertical-align: middle;\n",
       "    }\n",
       "\n",
       "    .dataframe tbody tr th {\n",
       "        vertical-align: top;\n",
       "    }\n",
       "\n",
       "    .dataframe thead th {\n",
       "        text-align: right;\n",
       "    }\n",
       "</style>\n",
       "<table border=\"1\" class=\"dataframe\">\n",
       "  <thead>\n",
       "    <tr style=\"text-align: right;\">\n",
       "      <th></th>\n",
       "      <th>id</th>\n",
       "      <th>rko_start_months</th>\n",
       "      <th>max_end_fact_fin_deals</th>\n",
       "      <th>max_end_plan_non_fin_deals</th>\n",
       "      <th>max_start_fin_deals</th>\n",
       "      <th>max_start_non_fin_deals</th>\n",
       "      <th>min_end_fact_fin_deals</th>\n",
       "      <th>min_end_plan_non_fin_deals</th>\n",
       "      <th>min_start_fin_deals</th>\n",
       "      <th>min_start_non_fin_deals</th>\n",
       "      <th>...</th>\n",
       "      <th>cnt_days_cred_g_oper_3m</th>\n",
       "      <th>sum_deb_h_oper_3m</th>\n",
       "      <th>cnt_deb_h_oper_3m</th>\n",
       "      <th>cnt_days_deb_h_oper_3m</th>\n",
       "      <th>sum_cred_h_oper_3m</th>\n",
       "      <th>cnt_cred_h_oper_3m</th>\n",
       "      <th>cnt_days_cred_h_oper_3m</th>\n",
       "      <th>target_1</th>\n",
       "      <th>target_2</th>\n",
       "      <th>total_target</th>\n",
       "    </tr>\n",
       "  </thead>\n",
       "  <tbody>\n",
       "    <tr>\n",
       "      <th>0</th>\n",
       "      <td>0</td>\n",
       "      <td>-1.279132</td>\n",
       "      <td>NaN</td>\n",
       "      <td>NaN</td>\n",
       "      <td>NaN</td>\n",
       "      <td>NaN</td>\n",
       "      <td>NaN</td>\n",
       "      <td>NaN</td>\n",
       "      <td>NaN</td>\n",
       "      <td>NaN</td>\n",
       "      <td>...</td>\n",
       "      <td>0.352516</td>\n",
       "      <td>-0.081310</td>\n",
       "      <td>0.210189</td>\n",
       "      <td>1.140808</td>\n",
       "      <td>0.647477</td>\n",
       "      <td>0.810887</td>\n",
       "      <td>1.909568</td>\n",
       "      <td>0</td>\n",
       "      <td>0</td>\n",
       "      <td>0</td>\n",
       "    </tr>\n",
       "    <tr>\n",
       "      <th>1</th>\n",
       "      <td>1</td>\n",
       "      <td>-1.142591</td>\n",
       "      <td>NaN</td>\n",
       "      <td>NaN</td>\n",
       "      <td>NaN</td>\n",
       "      <td>NaN</td>\n",
       "      <td>NaN</td>\n",
       "      <td>NaN</td>\n",
       "      <td>NaN</td>\n",
       "      <td>NaN</td>\n",
       "      <td>...</td>\n",
       "      <td>-0.188287</td>\n",
       "      <td>-0.650616</td>\n",
       "      <td>-0.316563</td>\n",
       "      <td>-1.136536</td>\n",
       "      <td>-0.127326</td>\n",
       "      <td>-0.147319</td>\n",
       "      <td>-0.517805</td>\n",
       "      <td>0</td>\n",
       "      <td>0</td>\n",
       "      <td>0</td>\n",
       "    </tr>\n",
       "    <tr>\n",
       "      <th>2</th>\n",
       "      <td>2</td>\n",
       "      <td>1.812270</td>\n",
       "      <td>NaN</td>\n",
       "      <td>NaN</td>\n",
       "      <td>NaN</td>\n",
       "      <td>NaN</td>\n",
       "      <td>NaN</td>\n",
       "      <td>NaN</td>\n",
       "      <td>NaN</td>\n",
       "      <td>NaN</td>\n",
       "      <td>...</td>\n",
       "      <td>-0.323487</td>\n",
       "      <td>0.632731</td>\n",
       "      <td>2.541558</td>\n",
       "      <td>3.017482</td>\n",
       "      <td>0.033394</td>\n",
       "      <td>0.019972</td>\n",
       "      <td>0.578428</td>\n",
       "      <td>0</td>\n",
       "      <td>0</td>\n",
       "      <td>0</td>\n",
       "    </tr>\n",
       "    <tr>\n",
       "      <th>3</th>\n",
       "      <td>3</td>\n",
       "      <td>-0.479407</td>\n",
       "      <td>NaN</td>\n",
       "      <td>0.356677</td>\n",
       "      <td>NaN</td>\n",
       "      <td>-0.332867</td>\n",
       "      <td>NaN</td>\n",
       "      <td>-0.704164</td>\n",
       "      <td>NaN</td>\n",
       "      <td>0.905748</td>\n",
       "      <td>...</td>\n",
       "      <td>-0.323487</td>\n",
       "      <td>-0.003549</td>\n",
       "      <td>-0.219016</td>\n",
       "      <td>0.228624</td>\n",
       "      <td>-0.428185</td>\n",
       "      <td>-0.220932</td>\n",
       "      <td>-0.596108</td>\n",
       "      <td>0</td>\n",
       "      <td>0</td>\n",
       "      <td>0</td>\n",
       "    </tr>\n",
       "    <tr>\n",
       "      <th>4</th>\n",
       "      <td>4</td>\n",
       "      <td>-1.503690</td>\n",
       "      <td>NaN</td>\n",
       "      <td>NaN</td>\n",
       "      <td>NaN</td>\n",
       "      <td>NaN</td>\n",
       "      <td>NaN</td>\n",
       "      <td>NaN</td>\n",
       "      <td>NaN</td>\n",
       "      <td>NaN</td>\n",
       "      <td>...</td>\n",
       "      <td>-0.323487</td>\n",
       "      <td>0.182726</td>\n",
       "      <td>-0.287299</td>\n",
       "      <td>-0.528921</td>\n",
       "      <td>-0.563335</td>\n",
       "      <td>-0.021506</td>\n",
       "      <td>-0.361201</td>\n",
       "      <td>0</td>\n",
       "      <td>0</td>\n",
       "      <td>0</td>\n",
       "    </tr>\n",
       "  </tbody>\n",
       "</table>\n",
       "<p>5 rows × 103 columns</p>\n",
       "</div>"
      ],
      "text/plain": [
       "   id  rko_start_months  max_end_fact_fin_deals  max_end_plan_non_fin_deals  \\\n",
       "0   0         -1.279132                     NaN                         NaN   \n",
       "1   1         -1.142591                     NaN                         NaN   \n",
       "2   2          1.812270                     NaN                         NaN   \n",
       "3   3         -0.479407                     NaN                    0.356677   \n",
       "4   4         -1.503690                     NaN                         NaN   \n",
       "\n",
       "   max_start_fin_deals  max_start_non_fin_deals  min_end_fact_fin_deals  \\\n",
       "0                  NaN                      NaN                     NaN   \n",
       "1                  NaN                      NaN                     NaN   \n",
       "2                  NaN                      NaN                     NaN   \n",
       "3                  NaN                -0.332867                     NaN   \n",
       "4                  NaN                      NaN                     NaN   \n",
       "\n",
       "   min_end_plan_non_fin_deals  min_start_fin_deals  min_start_non_fin_deals  \\\n",
       "0                         NaN                  NaN                      NaN   \n",
       "1                         NaN                  NaN                      NaN   \n",
       "2                         NaN                  NaN                      NaN   \n",
       "3                   -0.704164                  NaN                 0.905748   \n",
       "4                         NaN                  NaN                      NaN   \n",
       "\n",
       "   ...  cnt_days_cred_g_oper_3m  sum_deb_h_oper_3m  cnt_deb_h_oper_3m  \\\n",
       "0  ...                 0.352516          -0.081310           0.210189   \n",
       "1  ...                -0.188287          -0.650616          -0.316563   \n",
       "2  ...                -0.323487           0.632731           2.541558   \n",
       "3  ...                -0.323487          -0.003549          -0.219016   \n",
       "4  ...                -0.323487           0.182726          -0.287299   \n",
       "\n",
       "   cnt_days_deb_h_oper_3m sum_cred_h_oper_3m cnt_cred_h_oper_3m  \\\n",
       "0                1.140808           0.647477           0.810887   \n",
       "1               -1.136536          -0.127326          -0.147319   \n",
       "2                3.017482           0.033394           0.019972   \n",
       "3                0.228624          -0.428185          -0.220932   \n",
       "4               -0.528921          -0.563335          -0.021506   \n",
       "\n",
       "  cnt_days_cred_h_oper_3m target_1  target_2  total_target  \n",
       "0                1.909568        0         0             0  \n",
       "1               -0.517805        0         0             0  \n",
       "2                0.578428        0         0             0  \n",
       "3               -0.596108        0         0             0  \n",
       "4               -0.361201        0         0             0  \n",
       "\n",
       "[5 rows x 103 columns]"
      ]
     },
     "execution_count": 3,
     "metadata": {},
     "output_type": "execute_result"
    }
   ],
   "source": [
    "train_df.head()"
   ]
  },
  {
   "cell_type": "code",
   "execution_count": 4,
   "id": "ee0a3c20-70c9-4359-a267-722fcab498b2",
   "metadata": {
    "colab": {
     "base_uri": "https://localhost:8080/",
     "height": 255
    },
    "id": "ee0a3c20-70c9-4359-a267-722fcab498b2",
    "outputId": "90e35a45-7cc7-4194-9f2e-2a374b6a0c25",
    "tags": []
   },
   "outputs": [
    {
     "data": {
      "text/html": [
       "<div>\n",
       "<style scoped>\n",
       "    .dataframe tbody tr th:only-of-type {\n",
       "        vertical-align: middle;\n",
       "    }\n",
       "\n",
       "    .dataframe tbody tr th {\n",
       "        vertical-align: top;\n",
       "    }\n",
       "\n",
       "    .dataframe thead th {\n",
       "        text-align: right;\n",
       "    }\n",
       "</style>\n",
       "<table border=\"1\" class=\"dataframe\">\n",
       "  <thead>\n",
       "    <tr style=\"text-align: right;\">\n",
       "      <th></th>\n",
       "      <th>id</th>\n",
       "      <th>rko_start_months</th>\n",
       "      <th>max_end_fact_fin_deals</th>\n",
       "      <th>max_end_plan_non_fin_deals</th>\n",
       "      <th>max_start_fin_deals</th>\n",
       "      <th>max_start_non_fin_deals</th>\n",
       "      <th>min_end_fact_fin_deals</th>\n",
       "      <th>min_end_plan_non_fin_deals</th>\n",
       "      <th>min_start_fin_deals</th>\n",
       "      <th>min_start_non_fin_deals</th>\n",
       "      <th>...</th>\n",
       "      <th>cnt_days_deb_g_oper_3m</th>\n",
       "      <th>sum_cred_g_oper_3m</th>\n",
       "      <th>cnt_cred_g_oper_3m</th>\n",
       "      <th>cnt_days_cred_g_oper_3m</th>\n",
       "      <th>sum_deb_h_oper_3m</th>\n",
       "      <th>cnt_deb_h_oper_3m</th>\n",
       "      <th>cnt_days_deb_h_oper_3m</th>\n",
       "      <th>sum_cred_h_oper_3m</th>\n",
       "      <th>cnt_cred_h_oper_3m</th>\n",
       "      <th>cnt_days_cred_h_oper_3m</th>\n",
       "    </tr>\n",
       "  </thead>\n",
       "  <tbody>\n",
       "    <tr>\n",
       "      <th>0</th>\n",
       "      <td>300000</td>\n",
       "      <td>-1.076009</td>\n",
       "      <td>NaN</td>\n",
       "      <td>NaN</td>\n",
       "      <td>NaN</td>\n",
       "      <td>NaN</td>\n",
       "      <td>NaN</td>\n",
       "      <td>NaN</td>\n",
       "      <td>NaN</td>\n",
       "      <td>NaN</td>\n",
       "      <td>...</td>\n",
       "      <td>-0.514610</td>\n",
       "      <td>-0.045603</td>\n",
       "      <td>-0.131653</td>\n",
       "      <td>-0.323487</td>\n",
       "      <td>-0.169940</td>\n",
       "      <td>-0.316563</td>\n",
       "      <td>-0.639934</td>\n",
       "      <td>-0.171600</td>\n",
       "      <td>-0.237763</td>\n",
       "      <td>-0.596108</td>\n",
       "    </tr>\n",
       "    <tr>\n",
       "      <th>1</th>\n",
       "      <td>300001</td>\n",
       "      <td>-0.335070</td>\n",
       "      <td>NaN</td>\n",
       "      <td>NaN</td>\n",
       "      <td>NaN</td>\n",
       "      <td>NaN</td>\n",
       "      <td>NaN</td>\n",
       "      <td>NaN</td>\n",
       "      <td>NaN</td>\n",
       "      <td>NaN</td>\n",
       "      <td>...</td>\n",
       "      <td>-0.514610</td>\n",
       "      <td>-0.045603</td>\n",
       "      <td>-0.131653</td>\n",
       "      <td>-0.323487</td>\n",
       "      <td>-0.169940</td>\n",
       "      <td>-0.316563</td>\n",
       "      <td>-0.639934</td>\n",
       "      <td>-0.171580</td>\n",
       "      <td>-0.222361</td>\n",
       "      <td>-0.517805</td>\n",
       "    </tr>\n",
       "    <tr>\n",
       "      <th>2</th>\n",
       "      <td>300002</td>\n",
       "      <td>0.920834</td>\n",
       "      <td>NaN</td>\n",
       "      <td>NaN</td>\n",
       "      <td>NaN</td>\n",
       "      <td>NaN</td>\n",
       "      <td>NaN</td>\n",
       "      <td>NaN</td>\n",
       "      <td>NaN</td>\n",
       "      <td>NaN</td>\n",
       "      <td>...</td>\n",
       "      <td>-0.463706</td>\n",
       "      <td>-0.045603</td>\n",
       "      <td>-0.131653</td>\n",
       "      <td>-0.323487</td>\n",
       "      <td>-0.169940</td>\n",
       "      <td>-0.316563</td>\n",
       "      <td>-0.639934</td>\n",
       "      <td>0.020943</td>\n",
       "      <td>-0.160754</td>\n",
       "      <td>-0.204596</td>\n",
       "    </tr>\n",
       "    <tr>\n",
       "      <th>3</th>\n",
       "      <td>300003</td>\n",
       "      <td>-0.772897</td>\n",
       "      <td>-0.740714</td>\n",
       "      <td>NaN</td>\n",
       "      <td>-0.635375</td>\n",
       "      <td>NaN</td>\n",
       "      <td>-0.595302</td>\n",
       "      <td>NaN</td>\n",
       "      <td>-0.738424</td>\n",
       "      <td>NaN</td>\n",
       "      <td>...</td>\n",
       "      <td>-0.514610</td>\n",
       "      <td>-0.045603</td>\n",
       "      <td>-0.131653</td>\n",
       "      <td>-0.323487</td>\n",
       "      <td>-0.137993</td>\n",
       "      <td>-0.277545</td>\n",
       "      <td>-0.381706</td>\n",
       "      <td>-0.171600</td>\n",
       "      <td>-0.237763</td>\n",
       "      <td>-0.596108</td>\n",
       "    </tr>\n",
       "    <tr>\n",
       "      <th>4</th>\n",
       "      <td>300004</td>\n",
       "      <td>-0.665342</td>\n",
       "      <td>NaN</td>\n",
       "      <td>NaN</td>\n",
       "      <td>NaN</td>\n",
       "      <td>NaN</td>\n",
       "      <td>NaN</td>\n",
       "      <td>NaN</td>\n",
       "      <td>NaN</td>\n",
       "      <td>NaN</td>\n",
       "      <td>...</td>\n",
       "      <td>-0.209184</td>\n",
       "      <td>-0.045603</td>\n",
       "      <td>-0.131653</td>\n",
       "      <td>-0.323487</td>\n",
       "      <td>-0.139926</td>\n",
       "      <td>-0.277545</td>\n",
       "      <td>-0.381706</td>\n",
       "      <td>-0.158918</td>\n",
       "      <td>-0.222361</td>\n",
       "      <td>-0.517805</td>\n",
       "    </tr>\n",
       "  </tbody>\n",
       "</table>\n",
       "<p>5 rows × 100 columns</p>\n",
       "</div>"
      ],
      "text/plain": [
       "       id  rko_start_months  max_end_fact_fin_deals  \\\n",
       "0  300000         -1.076009                     NaN   \n",
       "1  300001         -0.335070                     NaN   \n",
       "2  300002          0.920834                     NaN   \n",
       "3  300003         -0.772897               -0.740714   \n",
       "4  300004         -0.665342                     NaN   \n",
       "\n",
       "   max_end_plan_non_fin_deals  max_start_fin_deals  max_start_non_fin_deals  \\\n",
       "0                         NaN                  NaN                      NaN   \n",
       "1                         NaN                  NaN                      NaN   \n",
       "2                         NaN                  NaN                      NaN   \n",
       "3                         NaN            -0.635375                      NaN   \n",
       "4                         NaN                  NaN                      NaN   \n",
       "\n",
       "   min_end_fact_fin_deals  min_end_plan_non_fin_deals  min_start_fin_deals  \\\n",
       "0                     NaN                         NaN                  NaN   \n",
       "1                     NaN                         NaN                  NaN   \n",
       "2                     NaN                         NaN                  NaN   \n",
       "3               -0.595302                         NaN            -0.738424   \n",
       "4                     NaN                         NaN                  NaN   \n",
       "\n",
       "   min_start_non_fin_deals  ...  cnt_days_deb_g_oper_3m  sum_cred_g_oper_3m  \\\n",
       "0                      NaN  ...               -0.514610           -0.045603   \n",
       "1                      NaN  ...               -0.514610           -0.045603   \n",
       "2                      NaN  ...               -0.463706           -0.045603   \n",
       "3                      NaN  ...               -0.514610           -0.045603   \n",
       "4                      NaN  ...               -0.209184           -0.045603   \n",
       "\n",
       "   cnt_cred_g_oper_3m  cnt_days_cred_g_oper_3m sum_deb_h_oper_3m  \\\n",
       "0           -0.131653                -0.323487         -0.169940   \n",
       "1           -0.131653                -0.323487         -0.169940   \n",
       "2           -0.131653                -0.323487         -0.169940   \n",
       "3           -0.131653                -0.323487         -0.137993   \n",
       "4           -0.131653                -0.323487         -0.139926   \n",
       "\n",
       "  cnt_deb_h_oper_3m cnt_days_deb_h_oper_3m sum_cred_h_oper_3m  \\\n",
       "0         -0.316563              -0.639934          -0.171600   \n",
       "1         -0.316563              -0.639934          -0.171580   \n",
       "2         -0.316563              -0.639934           0.020943   \n",
       "3         -0.277545              -0.381706          -0.171600   \n",
       "4         -0.277545              -0.381706          -0.158918   \n",
       "\n",
       "   cnt_cred_h_oper_3m  cnt_days_cred_h_oper_3m  \n",
       "0           -0.237763                -0.596108  \n",
       "1           -0.222361                -0.517805  \n",
       "2           -0.160754                -0.204596  \n",
       "3           -0.237763                -0.596108  \n",
       "4           -0.222361                -0.517805  \n",
       "\n",
       "[5 rows x 100 columns]"
      ]
     },
     "execution_count": 4,
     "metadata": {},
     "output_type": "execute_result"
    }
   ],
   "source": [
    "test_df.head()"
   ]
  },
  {
   "cell_type": "markdown",
   "id": "67b32f0c-5d70-4435-a8d5-7d41b4c6826b",
   "metadata": {
    "id": "67b32f0c-5d70-4435-a8d5-7d41b4c6826b"
   },
   "source": [
    "## Обработка данных"
   ]
  },
  {
   "cell_type": "markdown",
   "id": "65425a43-b496-4aae-9cbf-217d7ba50047",
   "metadata": {
    "execution": {
     "iopub.execute_input": "2023-08-30T11:51:15.377327Z",
     "iopub.status.busy": "2023-08-30T11:51:15.376738Z",
     "iopub.status.idle": "2023-08-30T11:51:15.417269Z",
     "shell.execute_reply": "2023-08-30T11:51:15.416369Z",
     "shell.execute_reply.started": "2023-08-30T11:51:15.377282Z"
    },
    "id": "65425a43-b496-4aae-9cbf-217d7ba50047",
    "tags": []
   },
   "source": [
    "Делаем 2 датасета: 1-ый с таргетом \"target_1\", 2-ой с таргетом \"target_2\". Финальный таргет будет считаться формулой max(target_1, target_2)"
   ]
  },
  {
   "cell_type": "code",
   "execution_count": 5,
   "id": "ae050d6d-b793-48c1-b487-75ff8acb9ff2",
   "metadata": {
    "id": "ae050d6d-b793-48c1-b487-75ff8acb9ff2",
    "tags": []
   },
   "outputs": [],
   "source": [
    "train_df_1 = train_df.drop([\"id\", \"total_target\", \"target_2\"], axis=1)\n",
    "train_df_2 = train_df.drop([\"id\", \"total_target\", \"target_1\"], axis=1)"
   ]
  },
  {
   "cell_type": "markdown",
   "id": "d1bdd05e-f785-4d72-9ebb-012c481804d0",
   "metadata": {
    "id": "d1bdd05e-f785-4d72-9ebb-012c481804d0"
   },
   "source": [
    "Преобразуем тип категориальных признаков"
   ]
  },
  {
   "cell_type": "code",
   "execution_count": 6,
   "id": "4ff73f27-969f-4c12-af6d-5e745b107ef5",
   "metadata": {
    "id": "4ff73f27-969f-4c12-af6d-5e745b107ef5",
    "tags": []
   },
   "outputs": [],
   "source": [
    "cat_cols = [\n",
    "    'channel_code', 'city', 'city_type',\n",
    "    'index_city_code', 'ogrn_month', 'ogrn_year',\n",
    "    'branch_code', 'okved', 'segment'\n",
    "]"
   ]
  },
  {
   "cell_type": "code",
   "execution_count": 59,
   "id": "1e5c6fb7-04c5-4fa3-b4fd-114c69405b31",
   "metadata": {},
   "outputs": [],
   "source": [
    "# Label encoder\n",
    "label_encoder = LabelEncoder()\n",
    "\n",
    "for column in cat_cols:\n",
    "    train_df_1[column] = label_encoder.fit_transform(train_df_1[column])\n",
    "    train_df_2[column] = label_encoder.fit_transform(train_df_2[column])\n",
    "    test_df[column] = label_encoder.fit_transform(test_df[column])"
   ]
  },
  {
   "cell_type": "code",
   "execution_count": 8,
   "id": "f831f650-8d06-453e-9dc7-ebffe1c7e24b",
   "metadata": {},
   "outputs": [],
   "source": [
    "# Other cleaning\n",
    "def clean_dataset(df, cat_cols, fillna_percentage):\n",
    "    df_copy = df.copy()\n",
    "    df_copy.drop_duplicates(inplace=True)\n",
    "    for column in tqdm(df_copy.columns):\n",
    "        if column not in cat_cols:\n",
    "            df_copy[column] = df_copy[column].astype(float)\n",
    "            \n",
    "            if df_copy[column].nunique() == 1:\n",
    "                df_copy.drop(column, axis=1, inplace=True)\n",
    "                \n",
    "            nan_percentage = df_copy[column].isnull().mean() * 100\n",
    "            if nan_percentage > fillna_percentage:\n",
    "                df_copy.drop(column, axis=1, inplace=True)\n",
    "            else:\n",
    "                df_copy[column].fillna(df_copy[column].mean(), inplace=True)\n",
    "\n",
    "    return df_copy"
   ]
  },
  {
   "cell_type": "code",
   "execution_count": 9,
   "id": "6bbe3fc1-fb81-4ac9-9852-5f9a769363a4",
   "metadata": {},
   "outputs": [
    {
     "name": "stderr",
     "output_type": "stream",
     "text": [
      "100%|████████████████████████████████████████████████████████████████████████████████| 100/100 [00:02<00:00, 38.05it/s]\n",
      "100%|████████████████████████████████████████████████████████████████████████████████| 100/100 [00:02<00:00, 38.71it/s]\n"
     ]
    }
   ],
   "source": [
    "clean_df_1 = clean_dataset(train_df_1, cat_cols, 60)\n",
    "clean_df_2 = clean_dataset(train_df_2, cat_cols, 60)"
   ]
  },
  {
   "cell_type": "code",
   "execution_count": 60,
   "id": "14fff58a-9578-4d7f-ba5f-f94465ed3ec1",
   "metadata": {},
   "outputs": [
    {
     "name": "stderr",
     "output_type": "stream",
     "text": [
      "100%|███████████████████████████████████████████████████████████████████████████████| 100/100 [00:00<00:00, 135.52it/s]\n"
     ]
    }
   ],
   "source": [
    "clean_test = clean_dataset(test_df, cat_cols, 60)"
   ]
  },
  {
   "cell_type": "code",
   "execution_count": 177,
   "id": "70969ecd-3bc4-4062-bd1e-b9bf0a3fe5ef",
   "metadata": {},
   "outputs": [
    {
     "data": {
      "text/html": [
       "<div>\n",
       "<style scoped>\n",
       "    .dataframe tbody tr th:only-of-type {\n",
       "        vertical-align: middle;\n",
       "    }\n",
       "\n",
       "    .dataframe tbody tr th {\n",
       "        vertical-align: top;\n",
       "    }\n",
       "\n",
       "    .dataframe thead th {\n",
       "        text-align: right;\n",
       "    }\n",
       "</style>\n",
       "<table border=\"1\" class=\"dataframe\">\n",
       "  <thead>\n",
       "    <tr style=\"text-align: right;\">\n",
       "      <th></th>\n",
       "      <th>id</th>\n",
       "      <th>rko_start_months</th>\n",
       "      <th>balance_amt_avg</th>\n",
       "      <th>balance_amt_max</th>\n",
       "      <th>balance_amt_min</th>\n",
       "      <th>balance_amt_day_avg</th>\n",
       "      <th>channel_code</th>\n",
       "      <th>city</th>\n",
       "      <th>city_type</th>\n",
       "      <th>index_city_code</th>\n",
       "      <th>...</th>\n",
       "      <th>cnt_days_deb_g_oper_3m</th>\n",
       "      <th>sum_cred_g_oper_3m</th>\n",
       "      <th>cnt_cred_g_oper_3m</th>\n",
       "      <th>cnt_days_cred_g_oper_3m</th>\n",
       "      <th>sum_deb_h_oper_3m</th>\n",
       "      <th>cnt_deb_h_oper_3m</th>\n",
       "      <th>cnt_days_deb_h_oper_3m</th>\n",
       "      <th>sum_cred_h_oper_3m</th>\n",
       "      <th>cnt_cred_h_oper_3m</th>\n",
       "      <th>cnt_days_cred_h_oper_3m</th>\n",
       "    </tr>\n",
       "  </thead>\n",
       "  <tbody>\n",
       "    <tr>\n",
       "      <th>0</th>\n",
       "      <td>300000.0</td>\n",
       "      <td>-1.076009</td>\n",
       "      <td>-0.148918</td>\n",
       "      <td>-0.179080</td>\n",
       "      <td>-0.106596</td>\n",
       "      <td>-0.148477</td>\n",
       "      <td>41</td>\n",
       "      <td>3942</td>\n",
       "      <td>2753</td>\n",
       "      <td>222</td>\n",
       "      <td>...</td>\n",
       "      <td>-0.514610</td>\n",
       "      <td>-0.045603</td>\n",
       "      <td>-0.131653</td>\n",
       "      <td>-0.323487</td>\n",
       "      <td>-0.169940</td>\n",
       "      <td>-0.316563</td>\n",
       "      <td>-0.639934</td>\n",
       "      <td>-0.171600</td>\n",
       "      <td>-0.237763</td>\n",
       "      <td>-0.596108</td>\n",
       "    </tr>\n",
       "    <tr>\n",
       "      <th>1</th>\n",
       "      <td>300001.0</td>\n",
       "      <td>-0.335070</td>\n",
       "      <td>-0.148947</td>\n",
       "      <td>-0.179163</td>\n",
       "      <td>-0.106596</td>\n",
       "      <td>-0.148468</td>\n",
       "      <td>20</td>\n",
       "      <td>1631</td>\n",
       "      <td>585</td>\n",
       "      <td>156</td>\n",
       "      <td>...</td>\n",
       "      <td>-0.514610</td>\n",
       "      <td>-0.045603</td>\n",
       "      <td>-0.131653</td>\n",
       "      <td>-0.323487</td>\n",
       "      <td>-0.169940</td>\n",
       "      <td>-0.316563</td>\n",
       "      <td>-0.639934</td>\n",
       "      <td>-0.171580</td>\n",
       "      <td>-0.222361</td>\n",
       "      <td>-0.517805</td>\n",
       "    </tr>\n",
       "    <tr>\n",
       "      <th>2</th>\n",
       "      <td>300002.0</td>\n",
       "      <td>0.920834</td>\n",
       "      <td>0.168571</td>\n",
       "      <td>0.157359</td>\n",
       "      <td>0.300480</td>\n",
       "      <td>0.169247</td>\n",
       "      <td>28</td>\n",
       "      <td>3942</td>\n",
       "      <td>2753</td>\n",
       "      <td>222</td>\n",
       "      <td>...</td>\n",
       "      <td>-0.463706</td>\n",
       "      <td>-0.045603</td>\n",
       "      <td>-0.131653</td>\n",
       "      <td>-0.323487</td>\n",
       "      <td>-0.169940</td>\n",
       "      <td>-0.316563</td>\n",
       "      <td>-0.639934</td>\n",
       "      <td>0.020943</td>\n",
       "      <td>-0.160754</td>\n",
       "      <td>-0.204596</td>\n",
       "    </tr>\n",
       "    <tr>\n",
       "      <th>3</th>\n",
       "      <td>300003.0</td>\n",
       "      <td>-0.772897</td>\n",
       "      <td>15.663146</td>\n",
       "      <td>10.264577</td>\n",
       "      <td>31.918232</td>\n",
       "      <td>15.673477</td>\n",
       "      <td>21</td>\n",
       "      <td>3942</td>\n",
       "      <td>2753</td>\n",
       "      <td>158</td>\n",
       "      <td>...</td>\n",
       "      <td>-0.514610</td>\n",
       "      <td>-0.045603</td>\n",
       "      <td>-0.131653</td>\n",
       "      <td>-0.323487</td>\n",
       "      <td>-0.137993</td>\n",
       "      <td>-0.277545</td>\n",
       "      <td>-0.381706</td>\n",
       "      <td>-0.171600</td>\n",
       "      <td>-0.237763</td>\n",
       "      <td>-0.596108</td>\n",
       "    </tr>\n",
       "    <tr>\n",
       "      <th>4</th>\n",
       "      <td>300004.0</td>\n",
       "      <td>-0.665342</td>\n",
       "      <td>0.311747</td>\n",
       "      <td>0.125395</td>\n",
       "      <td>0.825424</td>\n",
       "      <td>0.312513</td>\n",
       "      <td>21</td>\n",
       "      <td>1328</td>\n",
       "      <td>585</td>\n",
       "      <td>185</td>\n",
       "      <td>...</td>\n",
       "      <td>-0.209184</td>\n",
       "      <td>-0.045603</td>\n",
       "      <td>-0.131653</td>\n",
       "      <td>-0.323487</td>\n",
       "      <td>-0.139926</td>\n",
       "      <td>-0.277545</td>\n",
       "      <td>-0.381706</td>\n",
       "      <td>-0.158918</td>\n",
       "      <td>-0.222361</td>\n",
       "      <td>-0.517805</td>\n",
       "    </tr>\n",
       "    <tr>\n",
       "      <th>...</th>\n",
       "      <td>...</td>\n",
       "      <td>...</td>\n",
       "      <td>...</td>\n",
       "      <td>...</td>\n",
       "      <td>...</td>\n",
       "      <td>...</td>\n",
       "      <td>...</td>\n",
       "      <td>...</td>\n",
       "      <td>...</td>\n",
       "      <td>...</td>\n",
       "      <td>...</td>\n",
       "      <td>...</td>\n",
       "      <td>...</td>\n",
       "      <td>...</td>\n",
       "      <td>...</td>\n",
       "      <td>...</td>\n",
       "      <td>...</td>\n",
       "      <td>...</td>\n",
       "      <td>...</td>\n",
       "      <td>...</td>\n",
       "      <td>...</td>\n",
       "    </tr>\n",
       "    <tr>\n",
       "      <th>99995</th>\n",
       "      <td>399995.0</td>\n",
       "      <td>-0.462181</td>\n",
       "      <td>-0.136041</td>\n",
       "      <td>-0.125734</td>\n",
       "      <td>-0.106464</td>\n",
       "      <td>-0.135554</td>\n",
       "      <td>25</td>\n",
       "      <td>2556</td>\n",
       "      <td>303</td>\n",
       "      <td>177</td>\n",
       "      <td>...</td>\n",
       "      <td>-0.463706</td>\n",
       "      <td>-0.044762</td>\n",
       "      <td>-0.101828</td>\n",
       "      <td>-0.188287</td>\n",
       "      <td>0.035977</td>\n",
       "      <td>-0.258035</td>\n",
       "      <td>-0.317149</td>\n",
       "      <td>-0.060968</td>\n",
       "      <td>-0.068343</td>\n",
       "      <td>0.108614</td>\n",
       "    </tr>\n",
       "    <tr>\n",
       "      <th>99996</th>\n",
       "      <td>399996.0</td>\n",
       "      <td>1.162020</td>\n",
       "      <td>0.016445</td>\n",
       "      <td>-0.005244</td>\n",
       "      <td>0.118241</td>\n",
       "      <td>0.017027</td>\n",
       "      <td>23</td>\n",
       "      <td>1450</td>\n",
       "      <td>585</td>\n",
       "      <td>222</td>\n",
       "      <td>...</td>\n",
       "      <td>-0.514610</td>\n",
       "      <td>-0.045250</td>\n",
       "      <td>-0.101828</td>\n",
       "      <td>-0.188287</td>\n",
       "      <td>-0.169707</td>\n",
       "      <td>-0.258035</td>\n",
       "      <td>-0.446263</td>\n",
       "      <td>-0.077180</td>\n",
       "      <td>0.024067</td>\n",
       "      <td>0.265219</td>\n",
       "    </tr>\n",
       "    <tr>\n",
       "      <th>99997</th>\n",
       "      <td>399997.0</td>\n",
       "      <td>-0.277489</td>\n",
       "      <td>-0.147806</td>\n",
       "      <td>-0.160523</td>\n",
       "      <td>-0.106596</td>\n",
       "      <td>-0.147327</td>\n",
       "      <td>25</td>\n",
       "      <td>3942</td>\n",
       "      <td>2753</td>\n",
       "      <td>222</td>\n",
       "      <td>...</td>\n",
       "      <td>-0.514610</td>\n",
       "      <td>-0.045603</td>\n",
       "      <td>-0.131653</td>\n",
       "      <td>-0.323487</td>\n",
       "      <td>-0.169940</td>\n",
       "      <td>-0.316563</td>\n",
       "      <td>-0.639934</td>\n",
       "      <td>-0.171600</td>\n",
       "      <td>-0.237763</td>\n",
       "      <td>-0.596108</td>\n",
       "    </tr>\n",
       "    <tr>\n",
       "      <th>99998</th>\n",
       "      <td>399998.0</td>\n",
       "      <td>-0.743564</td>\n",
       "      <td>-0.146039</td>\n",
       "      <td>-0.171194</td>\n",
       "      <td>-0.106595</td>\n",
       "      <td>-0.145559</td>\n",
       "      <td>23</td>\n",
       "      <td>3942</td>\n",
       "      <td>2753</td>\n",
       "      <td>222</td>\n",
       "      <td>...</td>\n",
       "      <td>0.147146</td>\n",
       "      <td>-0.045603</td>\n",
       "      <td>-0.131653</td>\n",
       "      <td>-0.323487</td>\n",
       "      <td>-0.169940</td>\n",
       "      <td>-0.316563</td>\n",
       "      <td>-0.639934</td>\n",
       "      <td>-0.142708</td>\n",
       "      <td>-0.022138</td>\n",
       "      <td>0.421823</td>\n",
       "    </tr>\n",
       "    <tr>\n",
       "      <th>99999</th>\n",
       "      <td>399999.0</td>\n",
       "      <td>3.129529</td>\n",
       "      <td>-0.063933</td>\n",
       "      <td>-0.111736</td>\n",
       "      <td>0.044696</td>\n",
       "      <td>-0.063402</td>\n",
       "      <td>11</td>\n",
       "      <td>3942</td>\n",
       "      <td>2753</td>\n",
       "      <td>1</td>\n",
       "      <td>...</td>\n",
       "      <td>-0.463706</td>\n",
       "      <td>-0.045603</td>\n",
       "      <td>-0.131653</td>\n",
       "      <td>-0.323487</td>\n",
       "      <td>0.450193</td>\n",
       "      <td>-0.277545</td>\n",
       "      <td>-0.446263</td>\n",
       "      <td>0.515140</td>\n",
       "      <td>-0.114549</td>\n",
       "      <td>-0.361201</td>\n",
       "    </tr>\n",
       "  </tbody>\n",
       "</table>\n",
       "<p>100000 rows × 92 columns</p>\n",
       "</div>"
      ],
      "text/plain": [
       "             id  rko_start_months  balance_amt_avg  balance_amt_max  \\\n",
       "0      300000.0         -1.076009        -0.148918        -0.179080   \n",
       "1      300001.0         -0.335070        -0.148947        -0.179163   \n",
       "2      300002.0          0.920834         0.168571         0.157359   \n",
       "3      300003.0         -0.772897        15.663146        10.264577   \n",
       "4      300004.0         -0.665342         0.311747         0.125395   \n",
       "...         ...               ...              ...              ...   \n",
       "99995  399995.0         -0.462181        -0.136041        -0.125734   \n",
       "99996  399996.0          1.162020         0.016445        -0.005244   \n",
       "99997  399997.0         -0.277489        -0.147806        -0.160523   \n",
       "99998  399998.0         -0.743564        -0.146039        -0.171194   \n",
       "99999  399999.0          3.129529        -0.063933        -0.111736   \n",
       "\n",
       "       balance_amt_min  balance_amt_day_avg  channel_code  city  city_type  \\\n",
       "0            -0.106596            -0.148477            41  3942       2753   \n",
       "1            -0.106596            -0.148468            20  1631        585   \n",
       "2             0.300480             0.169247            28  3942       2753   \n",
       "3            31.918232            15.673477            21  3942       2753   \n",
       "4             0.825424             0.312513            21  1328        585   \n",
       "...                ...                  ...           ...   ...        ...   \n",
       "99995        -0.106464            -0.135554            25  2556        303   \n",
       "99996         0.118241             0.017027            23  1450        585   \n",
       "99997        -0.106596            -0.147327            25  3942       2753   \n",
       "99998        -0.106595            -0.145559            23  3942       2753   \n",
       "99999         0.044696            -0.063402            11  3942       2753   \n",
       "\n",
       "       index_city_code  ...  cnt_days_deb_g_oper_3m  sum_cred_g_oper_3m  \\\n",
       "0                  222  ...               -0.514610           -0.045603   \n",
       "1                  156  ...               -0.514610           -0.045603   \n",
       "2                  222  ...               -0.463706           -0.045603   \n",
       "3                  158  ...               -0.514610           -0.045603   \n",
       "4                  185  ...               -0.209184           -0.045603   \n",
       "...                ...  ...                     ...                 ...   \n",
       "99995              177  ...               -0.463706           -0.044762   \n",
       "99996              222  ...               -0.514610           -0.045250   \n",
       "99997              222  ...               -0.514610           -0.045603   \n",
       "99998              222  ...                0.147146           -0.045603   \n",
       "99999                1  ...               -0.463706           -0.045603   \n",
       "\n",
       "       cnt_cred_g_oper_3m  cnt_days_cred_g_oper_3m  sum_deb_h_oper_3m  \\\n",
       "0               -0.131653                -0.323487          -0.169940   \n",
       "1               -0.131653                -0.323487          -0.169940   \n",
       "2               -0.131653                -0.323487          -0.169940   \n",
       "3               -0.131653                -0.323487          -0.137993   \n",
       "4               -0.131653                -0.323487          -0.139926   \n",
       "...                   ...                      ...                ...   \n",
       "99995           -0.101828                -0.188287           0.035977   \n",
       "99996           -0.101828                -0.188287          -0.169707   \n",
       "99997           -0.131653                -0.323487          -0.169940   \n",
       "99998           -0.131653                -0.323487          -0.169940   \n",
       "99999           -0.131653                -0.323487           0.450193   \n",
       "\n",
       "       cnt_deb_h_oper_3m  cnt_days_deb_h_oper_3m  sum_cred_h_oper_3m  \\\n",
       "0              -0.316563               -0.639934           -0.171600   \n",
       "1              -0.316563               -0.639934           -0.171580   \n",
       "2              -0.316563               -0.639934            0.020943   \n",
       "3              -0.277545               -0.381706           -0.171600   \n",
       "4              -0.277545               -0.381706           -0.158918   \n",
       "...                  ...                     ...                 ...   \n",
       "99995          -0.258035               -0.317149           -0.060968   \n",
       "99996          -0.258035               -0.446263           -0.077180   \n",
       "99997          -0.316563               -0.639934           -0.171600   \n",
       "99998          -0.316563               -0.639934           -0.142708   \n",
       "99999          -0.277545               -0.446263            0.515140   \n",
       "\n",
       "       cnt_cred_h_oper_3m  cnt_days_cred_h_oper_3m  \n",
       "0               -0.237763                -0.596108  \n",
       "1               -0.222361                -0.517805  \n",
       "2               -0.160754                -0.204596  \n",
       "3               -0.237763                -0.596108  \n",
       "4               -0.222361                -0.517805  \n",
       "...                   ...                      ...  \n",
       "99995           -0.068343                 0.108614  \n",
       "99996            0.024067                 0.265219  \n",
       "99997           -0.237763                -0.596108  \n",
       "99998           -0.022138                 0.421823  \n",
       "99999           -0.114549                -0.361201  \n",
       "\n",
       "[100000 rows x 92 columns]"
      ]
     },
     "execution_count": 177,
     "metadata": {},
     "output_type": "execute_result"
    }
   ],
   "source": [
    "clean_test"
   ]
  },
  {
   "cell_type": "markdown",
   "id": "848a5194-66b9-4a1d-a5af-b97b62054125",
   "metadata": {
    "id": "848a5194-66b9-4a1d-a5af-b97b62054125"
   },
   "source": [
    "## Обучение 1-ой модели на target_1"
   ]
  },
  {
   "cell_type": "code",
   "execution_count": 22,
   "id": "4d61fe50-a149-4f11-922b-a4f3dd2c0f88",
   "metadata": {},
   "outputs": [],
   "source": [
    "import optuna\n",
    "from sklearn.model_selection import train_test_split\n",
    "from sklearn.metrics import accuracy_score\n",
    "from sklearn.neighbors import KNeighborsClassifier\n",
    "from lightgbm import LGBMClassifier\n",
    "from sklearn.ensemble import RandomForestClassifier\n",
    "from catboost import CatBoostClassifier\n",
    "from xgboost import XGBClassifier\n",
    "from sklearn.linear_model import LogisticRegression"
   ]
  },
  {
   "cell_type": "code",
   "execution_count": 171,
   "id": "f9c24b53-9a3b-4121-bad4-523826a82301",
   "metadata": {
    "id": "f9c24b53-9a3b-4121-bad4-523826a82301",
    "tags": []
   },
   "outputs": [],
   "source": [
    "X = clean_df_1.drop(\"target_1\", axis=1)\n",
    "y = clean_df_1['target_1']\n",
    "X_train, X_test, y_train, y_test = train_test_split(X, y,\n",
    "                                                  test_size=0.2,\n",
    "                                                  random_state=42)"
   ]
  },
  {
   "cell_type": "code",
   "execution_count": 41,
   "id": "9725a645-a3b8-4702-a825-d2ad8b8d1afd",
   "metadata": {},
   "outputs": [],
   "source": [
    "best_value = float('-inf')"
   ]
  },
  {
   "cell_type": "code",
   "execution_count": 45,
   "id": "5426940b-9561-4c32-bc4f-a45a6c0f03cb",
   "metadata": {},
   "outputs": [],
   "source": [
    "def objective(trial, study):\n",
    "    # optuna logic\n",
    "    global best_value\n",
    "    \n",
    "    model_name = trial.suggest_categorical('model_name', ['KNN', 'LGBM', 'RF', 'CatBoost', 'XGBoost', 'LogReg'])\n",
    "    \n",
    "    if model_name == 'KNN':\n",
    "        n_neighbors = trial.suggest_int('n_neighbors', 1, 10)\n",
    "        model = KNeighborsClassifier(n_neighbors=n_neighbors)\n",
    "    elif model_name == 'LGBM':\n",
    "        n_estimators = trial.suggest_int('n_estimators', 50, 200)\n",
    "        max_depth = trial.suggest_int('max_depth', 2, 32)\n",
    "        learning_rate = trial.suggest_loguniform('learning_rate', 0.001, 0.1)\n",
    "        model = LGBMClassifier(n_estimators=n_estimators, max_depth=max_depth, learning_rate=learning_rate)\n",
    "    elif model_name == 'RF':\n",
    "        n_estimators = trial.suggest_int('n_estimators', 50, 200)\n",
    "        max_depth = trial.suggest_int('max_depth', 2, 32)\n",
    "        model = RandomForestClassifier(n_estimators=n_estimators, max_depth=max_depth)\n",
    "    elif model_name == 'CatBoost':\n",
    "        n_estimators = trial.suggest_int('n_estimators', 50, 200)\n",
    "        depth = trial.suggest_int('depth', 2, 10)\n",
    "        learning_rate = trial.suggest_loguniform('learning_rate', 0.001, 0.1)\n",
    "        model = CatBoostClassifier(n_estimators=n_estimators, depth=depth, learning_rate=learning_rate, verbose=0)\n",
    "    elif model_name == 'XGBoost':\n",
    "        n_estimators = trial.suggest_int('n_estimators', 50, 200)\n",
    "        max_depth = trial.suggest_int('max_depth', 2, 32)\n",
    "        learning_rate = trial.suggest_loguniform('learning_rate', 0.001, 0.1)\n",
    "        model = XGBClassifier(n_estimators=n_estimators, max_depth=max_depth, learning_rate=learning_rate, verbosity=0)\n",
    "    elif model_name == 'LogReg':\n",
    "        C = trial.suggest_loguniform('C', 0.001, 10)\n",
    "        model = LogisticRegression(C=C)\n",
    "    \n",
    "    model.fit(X_train, y_train)\n",
    "    \n",
    "    y_proba = model.predict_proba(X_test)[:, 1]\n",
    "    roc_auc = roc_auc_score(y_test, y_proba)\n",
    "    \n",
    "    if roc_auc > best_value:\n",
    "        study.set_user_attr('best_model', model)\n",
    "        study.set_user_attr('best_model_params', trial.params)\n",
    "        best_value = roc_auc\n",
    "\n",
    "    print(f'{model_name} learned; roc-auc: {roc_auc}')\n",
    "    \n",
    "    return roc_auc"
   ]
  },
  {
   "cell_type": "code",
   "execution_count": 46,
   "id": "6d6f0df1-82f7-4172-8b3c-65a7f559ada1",
   "metadata": {},
   "outputs": [
    {
     "name": "stderr",
     "output_type": "stream",
     "text": [
      "[I 2023-10-07 00:22:07,769] A new study created in memory with name: no-name-d7716410-a55b-4353-8d50-16ec1e901aea\n"
     ]
    }
   ],
   "source": [
    "study = optuna.create_study(direction='maximize')"
   ]
  },
  {
   "cell_type": "code",
   "execution_count": 47,
   "id": "f212d8cf-5d23-4100-8a8c-8a4bd4ee340a",
   "metadata": {},
   "outputs": [
    {
     "name": "stderr",
     "output_type": "stream",
     "text": [
      "C:\\Users\\whoami\\AppData\\Local\\Temp\\ipykernel_3908\\1344274681.py:27: FutureWarning: suggest_loguniform has been deprecated in v3.0.0. This feature will be removed in v6.0.0. See https://github.com/optuna/optuna/releases/tag/v3.0.0. Use suggest_float(..., log=True) instead.\n",
      "  learning_rate = trial.suggest_loguniform('learning_rate', 0.001, 0.1)\n",
      "[I 2023-10-07 00:22:51,632] Trial 0 finished with value: 0.9130909359642315 and parameters: {'model_name': 'XGBoost', 'n_estimators': 73, 'max_depth': 14, 'learning_rate': 0.012519067706074711}. Best is trial 0 with value: 0.9130909359642315.\n"
     ]
    },
    {
     "name": "stdout",
     "output_type": "stream",
     "text": [
      "XGBoost learned; roc-auc: 0.9130909359642315\n"
     ]
    },
    {
     "name": "stderr",
     "output_type": "stream",
     "text": [
      "C:\\Users\\whoami\\AppData\\Local\\Temp\\ipykernel_3908\\1344274681.py:22: FutureWarning: suggest_loguniform has been deprecated in v3.0.0. This feature will be removed in v6.0.0. See https://github.com/optuna/optuna/releases/tag/v3.0.0. Use suggest_float(..., log=True) instead.\n",
      "  learning_rate = trial.suggest_loguniform('learning_rate', 0.001, 0.1)\n",
      "[I 2023-10-07 00:23:16,332] Trial 1 finished with value: 0.9185776344140161 and parameters: {'model_name': 'CatBoost', 'n_estimators': 145, 'depth': 8, 'learning_rate': 0.05845209506840664}. Best is trial 1 with value: 0.9185776344140161.\n"
     ]
    },
    {
     "name": "stdout",
     "output_type": "stream",
     "text": [
      "CatBoost learned; roc-auc: 0.9185776344140161\n"
     ]
    },
    {
     "name": "stderr",
     "output_type": "stream",
     "text": [
      "[I 2023-10-07 00:30:16,583] Trial 2 finished with value: 0.912728723197629 and parameters: {'model_name': 'RF', 'n_estimators': 72, 'max_depth': 18}. Best is trial 1 with value: 0.9185776344140161.\n"
     ]
    },
    {
     "name": "stdout",
     "output_type": "stream",
     "text": [
      "RF learned; roc-auc: 0.912728723197629\n"
     ]
    },
    {
     "name": "stderr",
     "output_type": "stream",
     "text": [
      "[I 2023-10-07 00:43:15,857] Trial 3 finished with value: 0.9133428918197791 and parameters: {'model_name': 'RF', 'n_estimators': 121, 'max_depth': 22}. Best is trial 1 with value: 0.9185776344140161.\n"
     ]
    },
    {
     "name": "stdout",
     "output_type": "stream",
     "text": [
      "RF learned; roc-auc: 0.9133428918197791\n",
      "[LightGBM] [Warning] Accuracy may be bad since you didn't explicitly set num_leaves OR 2^max_depth > num_leaves. (num_leaves=31).\n"
     ]
    },
    {
     "name": "stderr",
     "output_type": "stream",
     "text": [
      "C:\\Users\\whoami\\AppData\\Local\\Temp\\ipykernel_3908\\1344274681.py:13: FutureWarning: suggest_loguniform has been deprecated in v3.0.0. This feature will be removed in v6.0.0. See https://github.com/optuna/optuna/releases/tag/v3.0.0. Use suggest_float(..., log=True) instead.\n",
      "  learning_rate = trial.suggest_loguniform('learning_rate', 0.001, 0.1)\n"
     ]
    },
    {
     "name": "stdout",
     "output_type": "stream",
     "text": [
      "[LightGBM] [Warning] Accuracy may be bad since you didn't explicitly set num_leaves OR 2^max_depth > num_leaves. (num_leaves=31).\n",
      "[LightGBM] [Info] Number of positive: 13264, number of negative: 226736\n",
      "[LightGBM] [Info] Auto-choosing col-wise multi-threading, the overhead of testing was 0.176477 seconds.\n",
      "You can set `force_col_wise=true` to remove the overhead.\n",
      "[LightGBM] [Info] Total Bins 19106\n",
      "[LightGBM] [Info] Number of data points in the train set: 240000, number of used features: 91\n",
      "[LightGBM] [Info] [binary:BoostFromScore]: pavg=0.055267 -> initscore=-2.838733\n",
      "[LightGBM] [Info] Start training from score -2.838733\n"
     ]
    },
    {
     "name": "stderr",
     "output_type": "stream",
     "text": [
      "[I 2023-10-07 00:43:24,533] Trial 4 finished with value: 0.9005915216956122 and parameters: {'model_name': 'LGBM', 'n_estimators': 95, 'max_depth': 16, 'learning_rate': 0.0031964567435740173}. Best is trial 1 with value: 0.9185776344140161.\n"
     ]
    },
    {
     "name": "stdout",
     "output_type": "stream",
     "text": [
      "[LightGBM] [Warning] Accuracy may be bad since you didn't explicitly set num_leaves OR 2^max_depth > num_leaves. (num_leaves=31).\n",
      "LGBM learned; roc-auc: 0.9005915216956122\n"
     ]
    },
    {
     "name": "stderr",
     "output_type": "stream",
     "text": [
      "[I 2023-10-07 00:52:47,394] Trial 5 finished with value: 0.9084692142158056 and parameters: {'model_name': 'RF', 'n_estimators': 81, 'max_depth': 30}. Best is trial 1 with value: 0.9185776344140161.\n"
     ]
    },
    {
     "name": "stdout",
     "output_type": "stream",
     "text": [
      "RF learned; roc-auc: 0.9084692142158056\n"
     ]
    },
    {
     "name": "stderr",
     "output_type": "stream",
     "text": [
      "C:\\Users\\whoami\\AppData\\Local\\Temp\\ipykernel_3908\\1344274681.py:30: FutureWarning: suggest_loguniform has been deprecated in v3.0.0. This feature will be removed in v6.0.0. See https://github.com/optuna/optuna/releases/tag/v3.0.0. Use suggest_float(..., log=True) instead.\n",
      "  C = trial.suggest_loguniform('C', 0.001, 10)\n",
      "c:\\users\\whoami\\appdata\\local\\programs\\python\\python38\\lib\\site-packages\\sklearn\\linear_model\\_logistic.py:460: ConvergenceWarning: lbfgs failed to converge (status=1):\n",
      "STOP: TOTAL NO. of ITERATIONS REACHED LIMIT.\n",
      "\n",
      "Increase the number of iterations (max_iter) or scale the data as shown in:\n",
      "    https://scikit-learn.org/stable/modules/preprocessing.html\n",
      "Please also refer to the documentation for alternative solver options:\n",
      "    https://scikit-learn.org/stable/modules/linear_model.html#logistic-regression\n",
      "  n_iter_i = _check_optimize_result(\n",
      "[I 2023-10-07 00:52:53,959] Trial 6 finished with value: 0.643184186024226 and parameters: {'model_name': 'LogReg', 'C': 5.58384774633466}. Best is trial 1 with value: 0.9185776344140161.\n"
     ]
    },
    {
     "name": "stdout",
     "output_type": "stream",
     "text": [
      "LogReg learned; roc-auc: 0.643184186024226\n"
     ]
    },
    {
     "name": "stderr",
     "output_type": "stream",
     "text": [
      "[I 2023-10-07 00:54:20,189] Trial 7 finished with value: 0.8783311440311774 and parameters: {'model_name': 'RF', 'n_estimators': 117, 'max_depth': 2}. Best is trial 1 with value: 0.9185776344140161.\n"
     ]
    },
    {
     "name": "stdout",
     "output_type": "stream",
     "text": [
      "RF learned; roc-auc: 0.8783311440311774\n"
     ]
    },
    {
     "name": "stderr",
     "output_type": "stream",
     "text": [
      "C:\\Users\\whoami\\AppData\\Local\\Temp\\ipykernel_3908\\1344274681.py:30: FutureWarning: suggest_loguniform has been deprecated in v3.0.0. This feature will be removed in v6.0.0. See https://github.com/optuna/optuna/releases/tag/v3.0.0. Use suggest_float(..., log=True) instead.\n",
      "  C = trial.suggest_loguniform('C', 0.001, 10)\n",
      "c:\\users\\whoami\\appdata\\local\\programs\\python\\python38\\lib\\site-packages\\sklearn\\linear_model\\_logistic.py:460: ConvergenceWarning: lbfgs failed to converge (status=1):\n",
      "STOP: TOTAL NO. of ITERATIONS REACHED LIMIT.\n",
      "\n",
      "Increase the number of iterations (max_iter) or scale the data as shown in:\n",
      "    https://scikit-learn.org/stable/modules/preprocessing.html\n",
      "Please also refer to the documentation for alternative solver options:\n",
      "    https://scikit-learn.org/stable/modules/linear_model.html#logistic-regression\n",
      "  n_iter_i = _check_optimize_result(\n",
      "[I 2023-10-07 00:54:26,542] Trial 8 finished with value: 0.7158054730252934 and parameters: {'model_name': 'LogReg', 'C': 0.1853617630465456}. Best is trial 1 with value: 0.9185776344140161.\n",
      "C:\\Users\\whoami\\AppData\\Local\\Temp\\ipykernel_3908\\1344274681.py:30: FutureWarning: suggest_loguniform has been deprecated in v3.0.0. This feature will be removed in v6.0.0. See https://github.com/optuna/optuna/releases/tag/v3.0.0. Use suggest_float(..., log=True) instead.\n",
      "  C = trial.suggest_loguniform('C', 0.001, 10)\n"
     ]
    },
    {
     "name": "stdout",
     "output_type": "stream",
     "text": [
      "LogReg learned; roc-auc: 0.7158054730252934\n"
     ]
    },
    {
     "name": "stderr",
     "output_type": "stream",
     "text": [
      "c:\\users\\whoami\\appdata\\local\\programs\\python\\python38\\lib\\site-packages\\sklearn\\linear_model\\_logistic.py:460: ConvergenceWarning: lbfgs failed to converge (status=1):\n",
      "STOP: TOTAL NO. of ITERATIONS REACHED LIMIT.\n",
      "\n",
      "Increase the number of iterations (max_iter) or scale the data as shown in:\n",
      "    https://scikit-learn.org/stable/modules/preprocessing.html\n",
      "Please also refer to the documentation for alternative solver options:\n",
      "    https://scikit-learn.org/stable/modules/linear_model.html#logistic-regression\n",
      "  n_iter_i = _check_optimize_result(\n",
      "[I 2023-10-07 00:54:33,055] Trial 9 finished with value: 0.7251268786885681 and parameters: {'model_name': 'LogReg', 'C': 0.7811958508752938}. Best is trial 1 with value: 0.9185776344140161.\n"
     ]
    },
    {
     "name": "stdout",
     "output_type": "stream",
     "text": [
      "LogReg learned; roc-auc: 0.7251268786885681\n",
      "Лучшая модель: <catboost.core.CatBoostClassifier object at 0x000001B738EE38E0>\n",
      "Лучшие параметры для лучшей модели: {'model_name': 'CatBoost', 'n_estimators': 145, 'depth': 8, 'learning_rate': 0.05845209506840664}\n",
      "Лучший ROC-AUC для лучшей модели: 0.9185776344140161\n"
     ]
    }
   ],
   "source": [
    "study.optimize(lambda trial: objective(trial, study), n_trials=10)\n",
    "\n",
    "best_model = study.user_attrs['best_model']\n",
    "best_params = study.user_attrs['best_model_params']\n",
    "best_roc_auc = study.best_value\n",
    "\n",
    "print(f\"Лучшая модель: {best_model}\")\n",
    "print(f\"Лучшие параметры для лучшей модели: {best_params}\")\n",
    "print(f\"Лучший ROC-AUC для лучшей модели: {best_roc_auc}\")"
   ]
  },
  {
   "cell_type": "markdown",
   "id": "12dd97f1-545a-4988-9d7d-aadb29bdd802",
   "metadata": {},
   "source": [
    "# Обучение 2-ой модели на target_2"
   ]
  },
  {
   "cell_type": "code",
   "execution_count": 166,
   "id": "7ee2d266-43c3-4092-9fa1-fbc0ee87e39f",
   "metadata": {},
   "outputs": [],
   "source": [
    "X = clean_df_2.drop(\"target_2\", axis=1)\n",
    "y = clean_df_2['target_2']\n",
    "X_train, X_test, y_train, y_test = train_test_split(X, y,\n",
    "                                                  test_size=0.2,\n",
    "                                                  random_state=42)"
   ]
  },
  {
   "cell_type": "code",
   "execution_count": 167,
   "id": "274b5d0b-8643-4a12-be4e-a3f2d1028fc2",
   "metadata": {},
   "outputs": [],
   "source": [
    "best_value = float('-inf')"
   ]
  },
  {
   "cell_type": "code",
   "execution_count": 168,
   "id": "ffde4364-2ffe-4e8a-b337-1d7ec413a1a9",
   "metadata": {},
   "outputs": [
    {
     "name": "stderr",
     "output_type": "stream",
     "text": [
      "[I 2023-10-07 13:15:26,734] A new study created in memory with name: no-name-db026f69-8504-4b12-8792-6f614ac1f47c\n",
      "C:\\Users\\whoami\\AppData\\Local\\Temp\\ipykernel_3908\\1344274681.py:22: FutureWarning: suggest_loguniform has been deprecated in v3.0.0. This feature will be removed in v6.0.0. See https://github.com/optuna/optuna/releases/tag/v3.0.0. Use suggest_float(..., log=True) instead.\n",
      "  learning_rate = trial.suggest_loguniform('learning_rate', 0.001, 0.1)\n",
      "[I 2023-10-07 13:15:38,225] Trial 0 finished with value: 0.7478387906800186 and parameters: {'model_name': 'CatBoost', 'n_estimators': 118, 'depth': 5, 'learning_rate': 0.021321570230776788}. Best is trial 0 with value: 0.7478387906800186.\n"
     ]
    },
    {
     "name": "stdout",
     "output_type": "stream",
     "text": [
      "CatBoost learned; roc-auc: 0.7478387906800186\n"
     ]
    },
    {
     "name": "stderr",
     "output_type": "stream",
     "text": [
      "[I 2023-10-07 13:16:55,234] Trial 1 finished with value: 0.5401268927254532 and parameters: {'model_name': 'KNN', 'n_neighbors': 6}. Best is trial 0 with value: 0.7478387906800186.\n"
     ]
    },
    {
     "name": "stdout",
     "output_type": "stream",
     "text": [
      "KNN learned; roc-auc: 0.5401268927254532\n"
     ]
    },
    {
     "name": "stderr",
     "output_type": "stream",
     "text": [
      "C:\\Users\\whoami\\AppData\\Local\\Temp\\ipykernel_3908\\1344274681.py:13: FutureWarning: suggest_loguniform has been deprecated in v3.0.0. This feature will be removed in v6.0.0. See https://github.com/optuna/optuna/releases/tag/v3.0.0. Use suggest_float(..., log=True) instead.\n",
      "  learning_rate = trial.suggest_loguniform('learning_rate', 0.001, 0.1)\n"
     ]
    },
    {
     "name": "stdout",
     "output_type": "stream",
     "text": [
      "[LightGBM] [Warning] Accuracy may be bad since you didn't explicitly set num_leaves OR 2^max_depth > num_leaves. (num_leaves=31).\n",
      "[LightGBM] [Warning] Accuracy may be bad since you didn't explicitly set num_leaves OR 2^max_depth > num_leaves. (num_leaves=31).\n",
      "[LightGBM] [Info] Number of positive: 6364, number of negative: 233636\n",
      "[LightGBM] [Info] Auto-choosing col-wise multi-threading, the overhead of testing was 0.182836 seconds.\n",
      "You can set `force_col_wise=true` to remove the overhead.\n",
      "[LightGBM] [Info] Total Bins 19106\n",
      "[LightGBM] [Info] Number of data points in the train set: 240000, number of used features: 91\n",
      "[LightGBM] [Info] [binary:BoostFromScore]: pavg=0.026517 -> initscore=-3.603107\n",
      "[LightGBM] [Info] Start training from score -3.603107\n",
      "[LightGBM] [Warning] Accuracy may be bad since you didn't explicitly set num_leaves OR 2^max_depth > num_leaves. (num_leaves=31).\n"
     ]
    },
    {
     "name": "stderr",
     "output_type": "stream",
     "text": [
      "[I 2023-10-07 13:17:05,852] Trial 2 finished with value: 0.7648114013441629 and parameters: {'model_name': 'LGBM', 'n_estimators': 107, 'max_depth': 18, 'learning_rate': 0.01596084293885124}. Best is trial 2 with value: 0.7648114013441629.\n"
     ]
    },
    {
     "name": "stdout",
     "output_type": "stream",
     "text": [
      "LGBM learned; roc-auc: 0.7648114013441629\n"
     ]
    },
    {
     "name": "stderr",
     "output_type": "stream",
     "text": [
      "[I 2023-10-07 13:28:48,308] Trial 3 finished with value: 0.7275529745150435 and parameters: {'model_name': 'RF', 'n_estimators': 96, 'max_depth': 24}. Best is trial 2 with value: 0.7648114013441629.\n"
     ]
    },
    {
     "name": "stdout",
     "output_type": "stream",
     "text": [
      "RF learned; roc-auc: 0.7275529745150435\n"
     ]
    },
    {
     "name": "stderr",
     "output_type": "stream",
     "text": [
      "[I 2023-10-07 13:30:21,430] Trial 4 finished with value: 0.5428799757725059 and parameters: {'model_name': 'KNN', 'n_neighbors': 7}. Best is trial 2 with value: 0.7648114013441629.\n"
     ]
    },
    {
     "name": "stdout",
     "output_type": "stream",
     "text": [
      "KNN learned; roc-auc: 0.5428799757725059\n"
     ]
    },
    {
     "name": "stderr",
     "output_type": "stream",
     "text": [
      "[I 2023-10-07 13:40:30,729] Trial 5 finished with value: 0.7108684487032279 and parameters: {'model_name': 'RF', 'n_estimators': 74, 'max_depth': 31}. Best is trial 2 with value: 0.7648114013441629.\n"
     ]
    },
    {
     "name": "stdout",
     "output_type": "stream",
     "text": [
      "RF learned; roc-auc: 0.7108684487032279\n"
     ]
    },
    {
     "name": "stderr",
     "output_type": "stream",
     "text": [
      "[I 2023-10-07 13:41:58,195] Trial 6 finished with value: 0.5475396031788913 and parameters: {'model_name': 'KNN', 'n_neighbors': 8}. Best is trial 2 with value: 0.7648114013441629.\n"
     ]
    },
    {
     "name": "stdout",
     "output_type": "stream",
     "text": [
      "KNN learned; roc-auc: 0.5475396031788913\n"
     ]
    },
    {
     "name": "stderr",
     "output_type": "stream",
     "text": [
      "C:\\Users\\whoami\\AppData\\Local\\Temp\\ipykernel_3908\\1344274681.py:22: FutureWarning: suggest_loguniform has been deprecated in v3.0.0. This feature will be removed in v6.0.0. See https://github.com/optuna/optuna/releases/tag/v3.0.0. Use suggest_float(..., log=True) instead.\n",
      "  learning_rate = trial.suggest_loguniform('learning_rate', 0.001, 0.1)\n",
      "[I 2023-10-07 13:42:11,546] Trial 7 finished with value: 0.753334258606871 and parameters: {'model_name': 'CatBoost', 'n_estimators': 107, 'depth': 6, 'learning_rate': 0.028690151087439053}. Best is trial 2 with value: 0.7648114013441629.\n"
     ]
    },
    {
     "name": "stdout",
     "output_type": "stream",
     "text": [
      "CatBoost learned; roc-auc: 0.753334258606871\n"
     ]
    },
    {
     "name": "stderr",
     "output_type": "stream",
     "text": [
      "[I 2023-10-07 13:57:59,637] Trial 8 finished with value: 0.7522532262314077 and parameters: {'model_name': 'RF', 'n_estimators': 178, 'max_depth': 15}. Best is trial 2 with value: 0.7648114013441629.\n"
     ]
    },
    {
     "name": "stdout",
     "output_type": "stream",
     "text": [
      "RF learned; roc-auc: 0.7522532262314077\n"
     ]
    },
    {
     "name": "stderr",
     "output_type": "stream",
     "text": [
      "[I 2023-10-07 14:07:24,328] Trial 9 finished with value: 0.7146157431652441 and parameters: {'model_name': 'RF', 'n_estimators': 73, 'max_depth': 27}. Best is trial 2 with value: 0.7648114013441629.\n"
     ]
    },
    {
     "name": "stdout",
     "output_type": "stream",
     "text": [
      "RF learned; roc-auc: 0.7146157431652441\n",
      "Лучшая модель: LGBMClassifier(learning_rate=0.01596084293885124, max_depth=18,\n",
      "               n_estimators=107)\n",
      "Лучшие параметры для лучшей модели: {'model_name': 'LGBM', 'n_estimators': 107, 'max_depth': 18, 'learning_rate': 0.01596084293885124}\n",
      "Лучший ROC-AUC для лучшей модели: 0.7648114013441629\n"
     ]
    }
   ],
   "source": [
    "study2 = optuna.create_study(direction='maximize')\n",
    "study2.optimize(lambda trial: objective(trial, study2), n_trials=10)\n",
    "\n",
    "best_model2 = study2.user_attrs['best_model']\n",
    "best_params2 = study2.user_attrs['best_model_params']\n",
    "best_roc_auc2 = study2.best_value\n",
    "\n",
    "print(f\"Лучшая модель: {best_model2}\")\n",
    "print(f\"Лучшие параметры для лучшей модели: {best_params2}\")\n",
    "print(f\"Лучший ROC-AUC для лучшей модели: {best_roc_auc2}\")"
   ]
  },
  {
   "cell_type": "markdown",
   "id": "a209b3d4-f62c-44b2-b41b-d2cb3099891c",
   "metadata": {
    "id": "a209b3d4-f62c-44b2-b41b-d2cb3099891c"
   },
   "source": [
    "## Выгрузка результатов"
   ]
  },
  {
   "cell_type": "code",
   "execution_count": 150,
   "id": "0eb8fb10-c106-44ac-bf76-6197f8eef8b6",
   "metadata": {},
   "outputs": [],
   "source": [
    "y_pred = np.where((best_model.predict_proba(X_train)[:, 1] > 0.5), 1, 0)"
   ]
  },
  {
   "cell_type": "code",
   "execution_count": 172,
   "id": "3e357b33-4440-4d13-a366-bcc6ab6f4fcd",
   "metadata": {},
   "outputs": [],
   "source": [
    "y_pred_1 = best_model.predict_proba(X_test)[:, 1]"
   ]
  },
  {
   "cell_type": "code",
   "execution_count": 173,
   "id": "1faaa850-5335-44bd-b263-8fcbeb15526f",
   "metadata": {},
   "outputs": [
    {
     "name": "stdout",
     "output_type": "stream",
     "text": [
      "[LightGBM] [Warning] Accuracy may be bad since you didn't explicitly set num_leaves OR 2^max_depth > num_leaves. (num_leaves=31).\n"
     ]
    }
   ],
   "source": [
    "y_pred_2 = best_model2.predict_proba(X_test)[:, 1]"
   ]
  },
  {
   "cell_type": "code",
   "execution_count": 203,
   "id": "5056bbf7-9f08-4bf4-ad15-7f98c3b6fb93",
   "metadata": {},
   "outputs": [
    {
     "name": "stdout",
     "output_type": "stream",
     "text": [
      "[LightGBM] [Warning] Accuracy may be bad since you didn't explicitly set num_leaves OR 2^max_depth > num_leaves. (num_leaves=31).\n"
     ]
    }
   ],
   "source": [
    "y_pred_test1 = best_model.predict_proba(clean_test.drop(\"id\", axis=1))[:, 1]\n",
    "y_pred_test2 = best_model2.predict_proba(clean_test.drop(\"id\", axis=1))[:, 1]"
   ]
  },
  {
   "cell_type": "code",
   "execution_count": 204,
   "id": "7fea7930-ef18-4f72-b7c0-07d4143203cd",
   "metadata": {},
   "outputs": [],
   "source": [
    "test_score = [max(a, b) for a, b in zip(y_pred_test1, y_pred_test2)]"
   ]
  },
  {
   "cell_type": "code",
   "execution_count": 205,
   "id": "7264130f-1cc0-4cde-a15e-1723db3bd539",
   "metadata": {
    "id": "7264130f-1cc0-4cde-a15e-1723db3bd539",
    "tags": []
   },
   "outputs": [],
   "source": [
    "sample_submission_df = pd.read_csv(\"sample_submission.csv\")"
   ]
  },
  {
   "cell_type": "code",
   "execution_count": 206,
   "id": "539bb73a-e850-44fd-b55a-ae335a77c19e",
   "metadata": {
    "colab": {
     "base_uri": "https://localhost:8080/",
     "height": 206
    },
    "id": "539bb73a-e850-44fd-b55a-ae335a77c19e",
    "outputId": "5e01aaa0-bdd3-42d4-dc49-359b24b7ff38",
    "tags": []
   },
   "outputs": [
    {
     "data": {
      "text/html": [
       "<div>\n",
       "<style scoped>\n",
       "    .dataframe tbody tr th:only-of-type {\n",
       "        vertical-align: middle;\n",
       "    }\n",
       "\n",
       "    .dataframe tbody tr th {\n",
       "        vertical-align: top;\n",
       "    }\n",
       "\n",
       "    .dataframe thead th {\n",
       "        text-align: right;\n",
       "    }\n",
       "</style>\n",
       "<table border=\"1\" class=\"dataframe\">\n",
       "  <thead>\n",
       "    <tr style=\"text-align: right;\">\n",
       "      <th></th>\n",
       "      <th>id</th>\n",
       "      <th>score</th>\n",
       "    </tr>\n",
       "  </thead>\n",
       "  <tbody>\n",
       "    <tr>\n",
       "      <th>0</th>\n",
       "      <td>300000</td>\n",
       "      <td>0.5</td>\n",
       "    </tr>\n",
       "    <tr>\n",
       "      <th>1</th>\n",
       "      <td>300001</td>\n",
       "      <td>0.5</td>\n",
       "    </tr>\n",
       "    <tr>\n",
       "      <th>2</th>\n",
       "      <td>300002</td>\n",
       "      <td>0.5</td>\n",
       "    </tr>\n",
       "    <tr>\n",
       "      <th>3</th>\n",
       "      <td>300003</td>\n",
       "      <td>0.5</td>\n",
       "    </tr>\n",
       "    <tr>\n",
       "      <th>4</th>\n",
       "      <td>300004</td>\n",
       "      <td>0.5</td>\n",
       "    </tr>\n",
       "  </tbody>\n",
       "</table>\n",
       "</div>"
      ],
      "text/plain": [
       "       id  score\n",
       "0  300000    0.5\n",
       "1  300001    0.5\n",
       "2  300002    0.5\n",
       "3  300003    0.5\n",
       "4  300004    0.5"
      ]
     },
     "execution_count": 206,
     "metadata": {},
     "output_type": "execute_result"
    }
   ],
   "source": [
    "sample_submission_df.head()"
   ]
  },
  {
   "cell_type": "code",
   "execution_count": 207,
   "id": "43d0e500-c503-4ccd-aca5-d07d0afa5abe",
   "metadata": {
    "id": "43d0e500-c503-4ccd-aca5-d07d0afa5abe",
    "tags": []
   },
   "outputs": [],
   "source": [
    "sample_submission_df[\"score\"] = test_score"
   ]
  },
  {
   "cell_type": "code",
   "execution_count": 208,
   "id": "0dbd4504-1f3e-401a-9bc4-40179375888d",
   "metadata": {
    "colab": {
     "base_uri": "https://localhost:8080/",
     "height": 206
    },
    "id": "0dbd4504-1f3e-401a-9bc4-40179375888d",
    "outputId": "32bb19da-ce9f-4426-f035-d4cab94520ac",
    "tags": []
   },
   "outputs": [
    {
     "data": {
      "text/html": [
       "<div>\n",
       "<style scoped>\n",
       "    .dataframe tbody tr th:only-of-type {\n",
       "        vertical-align: middle;\n",
       "    }\n",
       "\n",
       "    .dataframe tbody tr th {\n",
       "        vertical-align: top;\n",
       "    }\n",
       "\n",
       "    .dataframe thead th {\n",
       "        text-align: right;\n",
       "    }\n",
       "</style>\n",
       "<table border=\"1\" class=\"dataframe\">\n",
       "  <thead>\n",
       "    <tr style=\"text-align: right;\">\n",
       "      <th></th>\n",
       "      <th>id</th>\n",
       "      <th>score</th>\n",
       "    </tr>\n",
       "  </thead>\n",
       "  <tbody>\n",
       "    <tr>\n",
       "      <th>0</th>\n",
       "      <td>300000</td>\n",
       "      <td>True</td>\n",
       "    </tr>\n",
       "    <tr>\n",
       "      <th>1</th>\n",
       "      <td>300001</td>\n",
       "      <td>True</td>\n",
       "    </tr>\n",
       "    <tr>\n",
       "      <th>2</th>\n",
       "      <td>300002</td>\n",
       "      <td>False</td>\n",
       "    </tr>\n",
       "    <tr>\n",
       "      <th>3</th>\n",
       "      <td>300003</td>\n",
       "      <td>False</td>\n",
       "    </tr>\n",
       "    <tr>\n",
       "      <th>4</th>\n",
       "      <td>300004</td>\n",
       "      <td>False</td>\n",
       "    </tr>\n",
       "  </tbody>\n",
       "</table>\n",
       "</div>"
      ],
      "text/plain": [
       "       id  score\n",
       "0  300000   True\n",
       "1  300001   True\n",
       "2  300002  False\n",
       "3  300003  False\n",
       "4  300004  False"
      ]
     },
     "execution_count": 208,
     "metadata": {},
     "output_type": "execute_result"
    }
   ],
   "source": [
    "sample_submission_df.head()"
   ]
  },
  {
   "cell_type": "code",
   "execution_count": 202,
   "id": "90f690fe-4222-41cf-9319-32f94213eb6f",
   "metadata": {
    "id": "90f690fe-4222-41cf-9319-32f94213eb6f",
    "tags": []
   },
   "outputs": [],
   "source": [
    "sample_submission_df.to_csv(\"2modelmax.csv\", index=False)"
   ]
  },
  {
   "cell_type": "markdown",
   "id": "ada474b3-10ee-462d-b887-50c8e106a5ff",
   "metadata": {},
   "source": [
    "# Voting Classifier"
   ]
  },
  {
   "cell_type": "code",
   "execution_count": 209,
   "id": "a3def21f-9ad3-46b9-8f67-db3761670796",
   "metadata": {},
   "outputs": [],
   "source": [
    "from sklearn.ensemble import VotingClassifier"
   ]
  },
  {
   "cell_type": "code",
   "execution_count": 214,
   "id": "454e9a63-466d-4953-828a-9cd1b736278c",
   "metadata": {},
   "outputs": [
    {
     "data": {
      "text/html": [
       "<style>#sk-container-id-1 {color: black;}#sk-container-id-1 pre{padding: 0;}#sk-container-id-1 div.sk-toggleable {background-color: white;}#sk-container-id-1 label.sk-toggleable__label {cursor: pointer;display: block;width: 100%;margin-bottom: 0;padding: 0.3em;box-sizing: border-box;text-align: center;}#sk-container-id-1 label.sk-toggleable__label-arrow:before {content: \"▸\";float: left;margin-right: 0.25em;color: #696969;}#sk-container-id-1 label.sk-toggleable__label-arrow:hover:before {color: black;}#sk-container-id-1 div.sk-estimator:hover label.sk-toggleable__label-arrow:before {color: black;}#sk-container-id-1 div.sk-toggleable__content {max-height: 0;max-width: 0;overflow: hidden;text-align: left;background-color: #f0f8ff;}#sk-container-id-1 div.sk-toggleable__content pre {margin: 0.2em;color: black;border-radius: 0.25em;background-color: #f0f8ff;}#sk-container-id-1 input.sk-toggleable__control:checked~div.sk-toggleable__content {max-height: 200px;max-width: 100%;overflow: auto;}#sk-container-id-1 input.sk-toggleable__control:checked~label.sk-toggleable__label-arrow:before {content: \"▾\";}#sk-container-id-1 div.sk-estimator input.sk-toggleable__control:checked~label.sk-toggleable__label {background-color: #d4ebff;}#sk-container-id-1 div.sk-label input.sk-toggleable__control:checked~label.sk-toggleable__label {background-color: #d4ebff;}#sk-container-id-1 input.sk-hidden--visually {border: 0;clip: rect(1px 1px 1px 1px);clip: rect(1px, 1px, 1px, 1px);height: 1px;margin: -1px;overflow: hidden;padding: 0;position: absolute;width: 1px;}#sk-container-id-1 div.sk-estimator {font-family: monospace;background-color: #f0f8ff;border: 1px dotted black;border-radius: 0.25em;box-sizing: border-box;margin-bottom: 0.5em;}#sk-container-id-1 div.sk-estimator:hover {background-color: #d4ebff;}#sk-container-id-1 div.sk-parallel-item::after {content: \"\";width: 100%;border-bottom: 1px solid gray;flex-grow: 1;}#sk-container-id-1 div.sk-label:hover label.sk-toggleable__label {background-color: #d4ebff;}#sk-container-id-1 div.sk-serial::before {content: \"\";position: absolute;border-left: 1px solid gray;box-sizing: border-box;top: 0;bottom: 0;left: 50%;z-index: 0;}#sk-container-id-1 div.sk-serial {display: flex;flex-direction: column;align-items: center;background-color: white;padding-right: 0.2em;padding-left: 0.2em;position: relative;}#sk-container-id-1 div.sk-item {position: relative;z-index: 1;}#sk-container-id-1 div.sk-parallel {display: flex;align-items: stretch;justify-content: center;background-color: white;position: relative;}#sk-container-id-1 div.sk-item::before, #sk-container-id-1 div.sk-parallel-item::before {content: \"\";position: absolute;border-left: 1px solid gray;box-sizing: border-box;top: 0;bottom: 0;left: 50%;z-index: -1;}#sk-container-id-1 div.sk-parallel-item {display: flex;flex-direction: column;z-index: 1;position: relative;background-color: white;}#sk-container-id-1 div.sk-parallel-item:first-child::after {align-self: flex-end;width: 50%;}#sk-container-id-1 div.sk-parallel-item:last-child::after {align-self: flex-start;width: 50%;}#sk-container-id-1 div.sk-parallel-item:only-child::after {width: 0;}#sk-container-id-1 div.sk-dashed-wrapped {border: 1px dashed gray;margin: 0 0.4em 0.5em 0.4em;box-sizing: border-box;padding-bottom: 0.4em;background-color: white;}#sk-container-id-1 div.sk-label label {font-family: monospace;font-weight: bold;display: inline-block;line-height: 1.2em;}#sk-container-id-1 div.sk-label-container {text-align: center;}#sk-container-id-1 div.sk-container {/* jupyter's `normalize.less` sets `[hidden] { display: none; }` but bootstrap.min.css set `[hidden] { display: none !important; }` so we also need the `!important` here to be able to override the default hidden behavior on the sphinx rendered scikit-learn.org. See: https://github.com/scikit-learn/scikit-learn/issues/21755 */display: inline-block !important;position: relative;}#sk-container-id-1 div.sk-text-repr-fallback {display: none;}</style><div id=\"sk-container-id-1\" class=\"sk-top-container\"><div class=\"sk-text-repr-fallback\"><pre>VotingClassifier(estimators=[(&#x27;catboost&#x27;,\n",
       "                              &lt;catboost.core.CatBoostClassifier object at 0x000001B7395AE280&gt;),\n",
       "                             (&#x27;random_forest&#x27;,\n",
       "                              RandomForestClassifier(max_depth=22,\n",
       "                                                     n_estimators=121)),\n",
       "                             (&#x27;xgboost&#x27;,\n",
       "                              XGBClassifier(base_score=None, booster=None,\n",
       "                                            callbacks=None,\n",
       "                                            colsample_bylevel=None,\n",
       "                                            colsample_bynode=None,\n",
       "                                            colsample_bytree=None, device=None,\n",
       "                                            early_stopping_rounds=None,...\n",
       "                                            importance_type=None,\n",
       "                                            interaction_constraints=None,\n",
       "                                            learning_rate=0.012519067706074711,\n",
       "                                            max_bin=None,\n",
       "                                            max_cat_threshold=None,\n",
       "                                            max_cat_to_onehot=None,\n",
       "                                            max_delta_step=None, max_depth=14,\n",
       "                                            max_leaves=None,\n",
       "                                            min_child_weight=None, missing=nan,\n",
       "                                            monotone_constraints=None,\n",
       "                                            multi_strategy=None,\n",
       "                                            n_estimators=73, n_jobs=None,\n",
       "                                            num_parallel_tree=None,\n",
       "                                            random_state=None, ...))],\n",
       "                 voting=&#x27;soft&#x27;)</pre><b>In a Jupyter environment, please rerun this cell to show the HTML representation or trust the notebook. <br />On GitHub, the HTML representation is unable to render, please try loading this page with nbviewer.org.</b></div><div class=\"sk-container\" hidden><div class=\"sk-item sk-dashed-wrapped\"><div class=\"sk-label-container\"><div class=\"sk-label sk-toggleable\"><input class=\"sk-toggleable__control sk-hidden--visually\" id=\"sk-estimator-id-1\" type=\"checkbox\" ><label for=\"sk-estimator-id-1\" class=\"sk-toggleable__label sk-toggleable__label-arrow\">VotingClassifier</label><div class=\"sk-toggleable__content\"><pre>VotingClassifier(estimators=[(&#x27;catboost&#x27;,\n",
       "                              &lt;catboost.core.CatBoostClassifier object at 0x000001B7395AE280&gt;),\n",
       "                             (&#x27;random_forest&#x27;,\n",
       "                              RandomForestClassifier(max_depth=22,\n",
       "                                                     n_estimators=121)),\n",
       "                             (&#x27;xgboost&#x27;,\n",
       "                              XGBClassifier(base_score=None, booster=None,\n",
       "                                            callbacks=None,\n",
       "                                            colsample_bylevel=None,\n",
       "                                            colsample_bynode=None,\n",
       "                                            colsample_bytree=None, device=None,\n",
       "                                            early_stopping_rounds=None,...\n",
       "                                            importance_type=None,\n",
       "                                            interaction_constraints=None,\n",
       "                                            learning_rate=0.012519067706074711,\n",
       "                                            max_bin=None,\n",
       "                                            max_cat_threshold=None,\n",
       "                                            max_cat_to_onehot=None,\n",
       "                                            max_delta_step=None, max_depth=14,\n",
       "                                            max_leaves=None,\n",
       "                                            min_child_weight=None, missing=nan,\n",
       "                                            monotone_constraints=None,\n",
       "                                            multi_strategy=None,\n",
       "                                            n_estimators=73, n_jobs=None,\n",
       "                                            num_parallel_tree=None,\n",
       "                                            random_state=None, ...))],\n",
       "                 voting=&#x27;soft&#x27;)</pre></div></div></div><div class=\"sk-parallel\"><div class=\"sk-parallel-item\"><div class=\"sk-item\"><div class=\"sk-label-container\"><div class=\"sk-label sk-toggleable\"><label>catboost</label></div></div><div class=\"sk-serial\"><div class=\"sk-item\"><div class=\"sk-estimator sk-toggleable\"><input class=\"sk-toggleable__control sk-hidden--visually\" id=\"sk-estimator-id-2\" type=\"checkbox\" ><label for=\"sk-estimator-id-2\" class=\"sk-toggleable__label sk-toggleable__label-arrow\">CatBoostClassifier</label><div class=\"sk-toggleable__content\"><pre>&lt;catboost.core.CatBoostClassifier object at 0x000001B7395AE280&gt;</pre></div></div></div></div></div></div><div class=\"sk-parallel-item\"><div class=\"sk-item\"><div class=\"sk-label-container\"><div class=\"sk-label sk-toggleable\"><label>random_forest</label></div></div><div class=\"sk-serial\"><div class=\"sk-item\"><div class=\"sk-estimator sk-toggleable\"><input class=\"sk-toggleable__control sk-hidden--visually\" id=\"sk-estimator-id-3\" type=\"checkbox\" ><label for=\"sk-estimator-id-3\" class=\"sk-toggleable__label sk-toggleable__label-arrow\">RandomForestClassifier</label><div class=\"sk-toggleable__content\"><pre>RandomForestClassifier(max_depth=22, n_estimators=121)</pre></div></div></div></div></div></div><div class=\"sk-parallel-item\"><div class=\"sk-item\"><div class=\"sk-label-container\"><div class=\"sk-label sk-toggleable\"><label>xgboost</label></div></div><div class=\"sk-serial\"><div class=\"sk-item\"><div class=\"sk-estimator sk-toggleable\"><input class=\"sk-toggleable__control sk-hidden--visually\" id=\"sk-estimator-id-4\" type=\"checkbox\" ><label for=\"sk-estimator-id-4\" class=\"sk-toggleable__label sk-toggleable__label-arrow\">XGBClassifier</label><div class=\"sk-toggleable__content\"><pre>XGBClassifier(base_score=None, booster=None, callbacks=None,\n",
       "              colsample_bylevel=None, colsample_bynode=None,\n",
       "              colsample_bytree=None, device=None, early_stopping_rounds=None,\n",
       "              enable_categorical=False, eval_metric=None, feature_types=None,\n",
       "              gamma=None, grow_policy=None, importance_type=None,\n",
       "              interaction_constraints=None, learning_rate=0.012519067706074711,\n",
       "              max_bin=None, max_cat_threshold=None, max_cat_to_onehot=None,\n",
       "              max_delta_step=None, max_depth=14, max_leaves=None,\n",
       "              min_child_weight=None, missing=nan, monotone_constraints=None,\n",
       "              multi_strategy=None, n_estimators=73, n_jobs=None,\n",
       "              num_parallel_tree=None, random_state=None, ...)</pre></div></div></div></div></div></div></div></div></div></div>"
      ],
      "text/plain": [
       "VotingClassifier(estimators=[('catboost',\n",
       "                              <catboost.core.CatBoostClassifier object at 0x000001B7395AE280>),\n",
       "                             ('random_forest',\n",
       "                              RandomForestClassifier(max_depth=22,\n",
       "                                                     n_estimators=121)),\n",
       "                             ('xgboost',\n",
       "                              XGBClassifier(base_score=None, booster=None,\n",
       "                                            callbacks=None,\n",
       "                                            colsample_bylevel=None,\n",
       "                                            colsample_bynode=None,\n",
       "                                            colsample_bytree=None, device=None,\n",
       "                                            early_stopping_rounds=None,...\n",
       "                                            importance_type=None,\n",
       "                                            interaction_constraints=None,\n",
       "                                            learning_rate=0.012519067706074711,\n",
       "                                            max_bin=None,\n",
       "                                            max_cat_threshold=None,\n",
       "                                            max_cat_to_onehot=None,\n",
       "                                            max_delta_step=None, max_depth=14,\n",
       "                                            max_leaves=None,\n",
       "                                            min_child_weight=None, missing=nan,\n",
       "                                            monotone_constraints=None,\n",
       "                                            multi_strategy=None,\n",
       "                                            n_estimators=73, n_jobs=None,\n",
       "                                            num_parallel_tree=None,\n",
       "                                            random_state=None, ...))],\n",
       "                 voting='soft')"
      ]
     },
     "execution_count": 214,
     "metadata": {},
     "output_type": "execute_result"
    }
   ],
   "source": [
    "catboost_model = CatBoostClassifier(\n",
    "    n_estimators=145,  # Гиперпараметры CatBoost\n",
    "    depth=8,\n",
    "    learning_rate=0.05845209506840664,\n",
    "    verbose = 0\n",
    ")\n",
    "\n",
    "rf_model = RandomForestClassifier(\n",
    "    n_estimators=121,  # Гиперпараметры RandomForest\n",
    "    max_depth=22\n",
    ")\n",
    "\n",
    "xgb_model = XGBClassifier(\n",
    "    n_estimators=73,  # Гиперпараметры XGBoost\n",
    "    max_depth=14,\n",
    "    learning_rate=0.012519067706074711\n",
    ")\n",
    "\n",
    "# Создайте VotingClassifier\n",
    "voting_classifier1 = VotingClassifier(\n",
    "    estimators=[\n",
    "        ('catboost', catboost_model),\n",
    "        ('random_forest', rf_model),\n",
    "        ('xgboost', xgb_model)\n",
    "    ],\n",
    "    voting='soft'  # 'soft' или 'hard', в зависимости от вашей стратегии голосования\n",
    ")\n",
    "\n",
    "voting_classifier1.fit(X_train, y_train)"
   ]
  },
  {
   "cell_type": "code",
   "execution_count": 215,
   "id": "97ffce33-832a-488e-942d-d6833ab11128",
   "metadata": {},
   "outputs": [],
   "source": [
    "y_pred_vote1 = voting_classifier1.predict_proba(clean_test.drop(\"id\", axis=1))[:, 1]"
   ]
  },
  {
   "cell_type": "code",
   "execution_count": 217,
   "id": "e7f4fc20-da37-403b-92f9-58ef3128c9f7",
   "metadata": {},
   "outputs": [
    {
     "name": "stdout",
     "output_type": "stream",
     "text": [
      "[LightGBM] [Warning] Accuracy may be bad since you didn't explicitly set num_leaves OR 2^max_depth > num_leaves. (num_leaves=31).\n",
      "[LightGBM] [Warning] Accuracy may be bad since you didn't explicitly set num_leaves OR 2^max_depth > num_leaves. (num_leaves=31).\n",
      "[LightGBM] [Info] Number of positive: 13264, number of negative: 226736\n",
      "[LightGBM] [Info] Auto-choosing col-wise multi-threading, the overhead of testing was 0.189597 seconds.\n",
      "You can set `force_col_wise=true` to remove the overhead.\n",
      "[LightGBM] [Info] Total Bins 19106\n",
      "[LightGBM] [Info] Number of data points in the train set: 240000, number of used features: 91\n",
      "[LightGBM] [Info] [binary:BoostFromScore]: pavg=0.055267 -> initscore=-2.838733\n",
      "[LightGBM] [Info] Start training from score -2.838733\n",
      "[LightGBM] [Warning] Accuracy may be bad since you didn't explicitly set num_leaves OR 2^max_depth > num_leaves. (num_leaves=31).\n"
     ]
    }
   ],
   "source": [
    "catboost_model_2 = CatBoostClassifier(\n",
    "    n_estimators=118,  # Гиперпараметры CatBoost\n",
    "    depth=5,\n",
    "    learning_rate=0.021321570230776788,\n",
    "    verbose = 0\n",
    ")\n",
    "\n",
    "rf_model_2 = RandomForestClassifier(\n",
    "    n_estimators=178,  # Гиперпараметры RandomForest\n",
    "    max_depth=15\n",
    ")\n",
    "\n",
    "lgbm_model = LGBMClassifier(\n",
    "    n_estimators=107,  # Гиперпараметры XGBoost\n",
    "    max_depth=18,\n",
    "    learning_rate=0.01596084293885124\n",
    ")\n",
    "\n",
    "# Создайте VotingClassifier\n",
    "voting_classifier2 = VotingClassifier(\n",
    "    estimators=[\n",
    "        ('catboost', catboost_model_2),\n",
    "        ('random_forest', rf_model_2),\n",
    "        ('xgboost', lgbm_model)\n",
    "    ],\n",
    "    voting='soft'  # 'soft' или 'hard', в зависимости от вашей стратегии голосования\n",
    ")\n",
    "\n",
    "# Обучите VotingClassifier на обучающих данных\n",
    "voting_classifier2.fit(X_train, y_train)\n",
    "\n",
    "# Получите предсказания от VotingClassifier\n",
    "y_pred_vote2 = voting_classifier2.predict_proba(clean_test.drop(\"id\", axis=1))[:, 1]"
   ]
  },
  {
   "cell_type": "code",
   "execution_count": 218,
   "id": "ad937072-fa1b-4464-8526-9a4d0f51fcb2",
   "metadata": {},
   "outputs": [],
   "source": [
    "test_score2 = [max(a, b) for a, b in zip(y_pred_vote1, y_pred_vote2)]"
   ]
  },
  {
   "cell_type": "code",
   "execution_count": 219,
   "id": "39330fc8-4a31-4910-880f-5b9db906e31d",
   "metadata": {},
   "outputs": [
    {
     "data": {
      "text/plain": [
       "0         True\n",
       "1         True\n",
       "2        False\n",
       "3        False\n",
       "4        False\n",
       "         ...  \n",
       "99995    False\n",
       "99996    False\n",
       "99997    False\n",
       "99998    False\n",
       "99999    False\n",
       "Name: score, Length: 100000, dtype: bool"
      ]
     },
     "execution_count": 219,
     "metadata": {},
     "output_type": "execute_result"
    }
   ],
   "source": [
    "sample_submission_df[\"score\"]"
   ]
  },
  {
   "cell_type": "code",
   "execution_count": 221,
   "id": "79de2d53-e76f-441c-b25b-d78a880531af",
   "metadata": {},
   "outputs": [],
   "source": [
    "sample_submission_df[\"score\"] = test_score2"
   ]
  },
  {
   "cell_type": "code",
   "execution_count": 223,
   "id": "b27559f0-8883-4aed-a4bd-ba8970355d67",
   "metadata": {},
   "outputs": [],
   "source": [
    "sample_submission_df.to_csv(\"2modelvotemax.csv\", index=False)"
   ]
  },
  {
   "cell_type": "code",
   "execution_count": null,
   "id": "ea3c35c8-ca07-430d-a396-99d1dc3c62af",
   "metadata": {},
   "outputs": [],
   "source": []
  }
 ],
 "metadata": {
  "colab": {
   "provenance": []
  },
  "kernelspec": {
   "display_name": "Python 3 (ipykernel)",
   "language": "python",
   "name": "python3"
  },
  "language_info": {
   "codemirror_mode": {
    "name": "ipython",
    "version": 3
   },
   "file_extension": ".py",
   "mimetype": "text/x-python",
   "name": "python",
   "nbconvert_exporter": "python",
   "pygments_lexer": "ipython3",
   "version": "3.10.0"
  }
 },
 "nbformat": 4,
 "nbformat_minor": 5
}
